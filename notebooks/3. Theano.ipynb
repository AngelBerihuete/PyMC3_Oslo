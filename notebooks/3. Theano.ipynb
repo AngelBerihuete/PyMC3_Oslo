{
 "cells": [
  {
   "cell_type": "markdown",
   "metadata": {},
   "source": [
    "## Theano\n",
    "\n",
    "While most of PyMC3's user-facing features are written in pure Python, it leverages Theano (Bergstra et al., 2010) to transparently transcode models to C and compile them to machine code, thereby boosting performance. Theano is a library that allows expressions to be defined using generalized vector data structures called *tensors*, which are tightly integrated with the popular NumPy `ndarray` data structure, and similarly allow for broadcasting and advanced indexing, just as NumPy arrays do. Theano also automatically optimizes the likelihood's computational graph for speed and provides simple GPU integration."
   ]
  },
  {
   "cell_type": "markdown",
   "metadata": {},
   "source": [
    "Theano is a Python library that allows you to define, optimize, and evaluate mathematical expressions involving multi-dimensional arrays efficiently. Theano features:\n",
    "\n",
    "* __tight integration with numpy__ – Use numpy.ndarray in Theano-compiled functions.\n",
    "* __transparent use of a GPU__ – Perform data-intensive calculations up to 140x faster than with CPU.(float32 only)\n",
    "* __efficient symbolic differentiation__ – Theano does your derivatives for function with one or many inputs.\n",
    "* __speed and stability optimizations__ – Get the right answer for log(1+x) even when x is really tiny.\n",
    "* __dynamic C code generation__ – Evaluate expressions faster.\n",
    "* __extensive unit-testing and self-verification__ – Detect and diagnose errors.\n",
    "\n",
    "Theano is part programming language, part compiler. It is often used to build machine learning, though it is not in itself a machine learning toolkit; think of it as a **mathematical toolkit**.\n",
    "\n",
    "After a brief introduction to the Theano package, we will use it to implement a modern MCMC algorithm, *Hamiltonian Monte Carlo (HMC)*.\n",
    "\n",
    "### Installing Theano\n",
    "\n",
    "The easiest way to install Theano is to build it from source, using **pip**:\n",
    "\n",
    "```bash\n",
    "pip install --upgrade --no-deps git+git://github.com/Theano/Theano.git\n",
    "```\n",
    "\n",
    "however, if you have PyMC3 installed, then Theano will already be available."
   ]
  },
  {
   "cell_type": "markdown",
   "metadata": {},
   "source": [
    "## Adding Two Scalars\n",
    "\n",
    "To get us started with Theano and get a feel of what we're working with, \n",
    "let's make a simple function: add two numbers together. Here is how you do\n",
    "it:\n",
    "\n",
    "### Step 1 - Declaring Variables"
   ]
  },
  {
   "cell_type": "code",
   "execution_count": 1,
   "metadata": {
    "collapsed": false
   },
   "outputs": [],
   "source": [
    "from theano import function, shared\n",
    "from theano import tensor as T\n",
    "import theano\n",
    "\n",
    "x = T.dscalar('x')\n",
    "y = T.dscalar('y')"
   ]
  },
  {
   "cell_type": "markdown",
   "metadata": {},
   "source": [
    "In Theano, all symbols must be typed. In particular, `T.dscalar`\n",
    "is the type we assign to \"0-dimensional arrays (`scalar`) of doubles\n",
    "(`d`)\". It is a Theano `type`."
   ]
  },
  {
   "cell_type": "code",
   "execution_count": 2,
   "metadata": {
    "collapsed": false
   },
   "outputs": [
    {
     "data": {
      "text/plain": [
       "theano.tensor.var.TensorVariable"
      ]
     },
     "execution_count": 2,
     "metadata": {},
     "output_type": "execute_result"
    }
   ],
   "source": [
    "type(x)"
   ]
  },
  {
   "cell_type": "code",
   "execution_count": 3,
   "metadata": {
    "collapsed": false
   },
   "outputs": [
    {
     "data": {
      "text/plain": [
       "TensorType(float64, scalar)"
      ]
     },
     "execution_count": 3,
     "metadata": {},
     "output_type": "execute_result"
    }
   ],
   "source": [
    "x.type"
   ]
  },
  {
   "cell_type": "code",
   "execution_count": 4,
   "metadata": {
    "collapsed": false
   },
   "outputs": [
    {
     "data": {
      "text/plain": [
       "TensorType(float64, scalar)"
      ]
     },
     "execution_count": 4,
     "metadata": {},
     "output_type": "execute_result"
    }
   ],
   "source": [
    "T.dscalar"
   ]
  },
  {
   "cell_type": "markdown",
   "metadata": {},
   "source": [
    "### Step 2 - Symbolic Expressions\n",
    "\n",
    "The second step is to combine *x* and *y* into their sum *z*:"
   ]
  },
  {
   "cell_type": "code",
   "execution_count": 5,
   "metadata": {
    "collapsed": false
   },
   "outputs": [],
   "source": [
    "z = x + y"
   ]
  },
  {
   "cell_type": "markdown",
   "metadata": {},
   "source": [
    "*z* is yet another *Variable* which represents the addition of\n",
    "*x* and *y*. You can use the `pp` function to *pretty-print* out the computation associated to *z*.\n"
   ]
  },
  {
   "cell_type": "code",
   "execution_count": 6,
   "metadata": {
    "collapsed": false
   },
   "outputs": [
    {
     "name": "stdout",
     "output_type": "stream",
     "text": [
      "(x + y)\n"
     ]
    }
   ],
   "source": [
    "from theano.printing import pp\n",
    "print(pp(z))"
   ]
  },
  {
   "cell_type": "markdown",
   "metadata": {},
   "source": [
    "### Step 3 - Compiling a Function\n",
    "\n",
    "The last step is to create a function taking *x* and *y* as inputs\n",
    "and giving *z* as output:"
   ]
  },
  {
   "cell_type": "code",
   "execution_count": 7,
   "metadata": {
    "collapsed": false
   },
   "outputs": [],
   "source": [
    "f = function([x, y], z)"
   ]
  },
  {
   "cell_type": "markdown",
   "metadata": {},
   "source": [
    "The first argument to `function()` is a list of Variables\n",
    "that will be provided as inputs to the function. The second argument\n",
    "is a single Variable *or* a list of Variables. For either case, the second\n",
    "argument is what we want to see as output when we apply the function. *f* may\n",
    "then be used like a normal Python function.\n"
   ]
  },
  {
   "cell_type": "markdown",
   "metadata": {},
   "source": [
    "Now we can call the function:"
   ]
  },
  {
   "cell_type": "code",
   "execution_count": 8,
   "metadata": {
    "collapsed": false
   },
   "outputs": [
    {
     "name": "stdout",
     "output_type": "stream",
     "text": [
      "5.0\n"
     ]
    }
   ],
   "source": [
    "print(f(2, 3))"
   ]
  },
  {
   "cell_type": "code",
   "execution_count": 9,
   "metadata": {
    "collapsed": false
   },
   "outputs": [
    {
     "name": "stdout",
     "output_type": "stream",
     "text": [
      "28.4\n"
     ]
    }
   ],
   "source": [
    "print(f(16.3, 12.1))"
   ]
  },
  {
   "cell_type": "markdown",
   "metadata": {},
   "source": [
    "If you are following along and typing into an interpreter, you may have\n",
    "noticed that there was a slight delay in executing the ``function``\n",
    "instruction. Behind the scenes, *f* was being compiled into C code."
   ]
  },
  {
   "cell_type": "markdown",
   "metadata": {},
   "source": [
    "Internally, Theano builds a graph structure composed of interconnected `Variable` nodes, `op` nodes and `apply` nodes. \n",
    "\n",
    "An `apply` node represents the application of an `op` to some variables. It is important to draw the difference between the definition of a computation represented by an `op` and its application to some actual data which is represented by the apply node. \n",
    "\n",
    "Here is the expression graph corresponding to the addition of `x` and `y`:"
   ]
  },
  {
   "cell_type": "code",
   "execution_count": 10,
   "metadata": {
    "collapsed": false
   },
   "outputs": [
    {
     "name": "stdout",
     "output_type": "stream",
     "text": [
      "The output file is available at images/f.png\n"
     ]
    }
   ],
   "source": [
    "from theano import printing\n",
    "\n",
    "printing.pydotprint(f, 'images/f.png')"
   ]
  },
  {
   "cell_type": "code",
   "execution_count": 11,
   "metadata": {
    "collapsed": false
   },
   "outputs": [
    {
     "data": {
      "image/png": "[encoded data removed]",
      "text/plain": [
       "<IPython.core.display.Image object>"
      ]
     },
     "execution_count": 11,
     "metadata": {
      "image/png": {
       "width": "80%"
      }
     },
     "output_type": "execute_result"
    }
   ],
   "source": [
    "from IPython.display import Image\n",
    "Image('images/f.png', width='80%')"
   ]
  },
  {
   "cell_type": "markdown",
   "metadata": {},
   "source": [
    "A *Variable* is the main data structure you work with when\n",
    "using Theano. By calling `T.dscalar` with a string argument, you create a\n",
    "`Variable` representing a floating-point scalar quantity with the\n",
    "given name. If you provide no argument, the symbol will be unnamed. Names\n",
    "are not required, but they can help debugging."
   ]
  },
  {
   "cell_type": "markdown",
   "metadata": {},
   "source": [
    "## Adding Two Matrices\n",
    "\n",
    "If we want to work with matrices instead of scalars, the only change\n",
    "from the previous example is that you need to instantiate *x* and\n",
    "*y* using the matrix Types:"
   ]
  },
  {
   "cell_type": "code",
   "execution_count": 12,
   "metadata": {
    "collapsed": false
   },
   "outputs": [],
   "source": [
    "x = T.dmatrix('x')\n",
    "y = T.dmatrix('y')\n",
    "z = x + y\n",
    "f = function([x, y], z)"
   ]
  },
  {
   "cell_type": "markdown",
   "metadata": {},
   "source": [
    "``dmatrix`` is the Type for matrices of doubles. Then we can use\n",
    "our new function on 2D arrays:\n"
   ]
  },
  {
   "cell_type": "code",
   "execution_count": 13,
   "metadata": {
    "collapsed": false
   },
   "outputs": [
    {
     "data": {
      "text/plain": [
       "array([[ 11.,  22.],\n",
       "       [ 33.,  44.]])"
      ]
     },
     "execution_count": 13,
     "metadata": {},
     "output_type": "execute_result"
    }
   ],
   "source": [
    "f([[1, 2], [3, 4]], [[10, 20], [30, 40]])"
   ]
  },
  {
   "cell_type": "markdown",
   "metadata": {},
   "source": [
    "The following types are available:\n",
    "\n",
    "* **byte**: ``bscalar, bvector, bmatrix, brow, bcol, btensor3, btensor4``\n",
    "* **16-bit integers**: ``wscalar, wvector, wmatrix, wrow, wcol, wtensor3, wtensor4``\n",
    "* **32-bit integers**: ``iscalar, ivector, imatrix, irow, icol, itensor3, itensor4``\n",
    "* **64-bit integers**: ``lscalar, lvector, lmatrix, lrow, lcol, ltensor3, ltensor4``\n",
    "* **float**: ``fscalar, fvector, fmatrix, frow, fcol, ftensor3, ftensor4``\n",
    "* **double**: ``dscalar, dvector, dmatrix, drow, dcol, dtensor3, dtensor4``\n",
    "* **complex**: ``cscalar, cvector, cmatrix, crow, ccol, ctensor3, ctensor4``"
   ]
  },
  {
   "cell_type": "markdown",
   "metadata": {},
   "source": [
    "An example of a slightly more interesting function is the logistic curve:"
   ]
  },
  {
   "cell_type": "code",
   "execution_count": 14,
   "metadata": {
    "collapsed": false
   },
   "outputs": [],
   "source": [
    "x = T.dmatrix('x')"
   ]
  },
  {
   "cell_type": "markdown",
   "metadata": {},
   "source": [
    "The logistic transformation:"
   ]
  },
  {
   "cell_type": "code",
   "execution_count": 15,
   "metadata": {
    "collapsed": false
   },
   "outputs": [],
   "source": [
    "s = 1 / (1 + T.exp(-x))"
   ]
  },
  {
   "cell_type": "code",
   "execution_count": 16,
   "metadata": {
    "collapsed": false
   },
   "outputs": [
    {
     "name": "stdout",
     "output_type": "stream",
     "text": [
      "[[ 0.5         0.73105858]\n",
      " [ 0.26894142  0.11920292]]\n"
     ]
    }
   ],
   "source": [
    "logistic = function([x], s)\n",
    "print(logistic([[0, 1], [-1, -2]]))"
   ]
  },
  {
   "cell_type": "markdown",
   "metadata": {},
   "source": [
    "Theano supports functions with multiple outputs. For example, we can\n",
    "compute the elementwise difference, absolute difference, and\n",
    "squared difference between two matrices *a* and *b* at the same time."
   ]
  },
  {
   "cell_type": "code",
   "execution_count": 17,
   "metadata": {
    "collapsed": false
   },
   "outputs": [],
   "source": [
    "a, b = T.dmatrices('a', 'b')\n",
    "diff = a - b\n",
    "abs_diff = abs(diff)\n",
    "diff_squared = diff ** 2"
   ]
  },
  {
   "cell_type": "markdown",
   "metadata": {},
   "source": [
    "When we use the function `f`, it returns the three computed results as a list."
   ]
  },
  {
   "cell_type": "code",
   "execution_count": 18,
   "metadata": {
    "collapsed": false
   },
   "outputs": [
    {
     "data": {
      "text/plain": [
       "[array([[ 1.,  0.],\n",
       "        [-1., -2.]]), array([[ 1.,  0.],\n",
       "        [ 1.,  2.]]), array([[ 1.,  0.],\n",
       "        [ 1.,  4.]])]"
      ]
     },
     "execution_count": 18,
     "metadata": {},
     "output_type": "execute_result"
    }
   ],
   "source": [
    "f = function([a, b], [diff, abs_diff, diff_squared])\n",
    "\n",
    "f([[1, 1], [1, 1]], [[0, 1], [2, 3]])"
   ]
  },
  {
   "cell_type": "markdown",
   "metadata": {},
   "source": [
    "## Setting a Default Value for an Argument\n",
    " \n",
    "Let's say you want to define a function that adds two numbers, except\n",
    "that if you only provide one number, the other input is assumed to be\n",
    "one. In Python, the default value for parameters achieves this effect.\n",
    "In Theano we make use of the <a href=\"http://deeplearning.net/software/theano/library/compile/io.html#function-inputs\">In</a> class, which allows\n",
    "you to specify properties of your function's parameters with greater detail. Here we\n",
    "give a default value of 1 for *y* by creating a ``In`` instance with\n",
    "its ``value`` field set to 1. Inputs with default values must follow inputs without default\n",
    "values (like Python's functions).  There can be multiple inputs with default values. These parameters can\n",
    "be set positionally or by name, as in standard Python."
   ]
  },
  {
   "cell_type": "code",
   "execution_count": 24,
   "metadata": {
    "collapsed": false
   },
   "outputs": [],
   "source": [
    "from theano import In\n",
    "\n",
    "x, y, w = T.dscalars('x', 'y', 'w')\n",
    "z = (x + y) * w\n",
    "g = function([x, In(y, value=1), In(w, value=2, name='w_by_name')], z)"
   ]
  },
  {
   "cell_type": "code",
   "execution_count": 25,
   "metadata": {
    "collapsed": false
   },
   "outputs": [
    {
     "name": "stdout",
     "output_type": "stream",
     "text": [
      "g(33) = 68.0\n"
     ]
    }
   ],
   "source": [
    "print('g(33) = {}'.format(g(33)))"
   ]
  },
  {
   "cell_type": "code",
   "execution_count": 26,
   "metadata": {
    "collapsed": false
   },
   "outputs": [
    {
     "name": "stdout",
     "output_type": "stream",
     "text": [
      "g(33, 0, 1) = 33.0\n"
     ]
    }
   ],
   "source": [
    "print('g(33, 0, 1) = {}'.format(g(33, 0, 1)))"
   ]
  },
  {
   "cell_type": "code",
   "execution_count": 27,
   "metadata": {
    "collapsed": false
   },
   "outputs": [
    {
     "name": "stdout",
     "output_type": "stream",
     "text": [
      "g(33, w_by_name=1) = 34.0\n"
     ]
    }
   ],
   "source": [
    "print('g(33, w_by_name=1) = {}'.format(g(33, w_by_name=1)))"
   ]
  },
  {
   "cell_type": "code",
   "execution_count": 28,
   "metadata": {
    "collapsed": false
   },
   "outputs": [
    {
     "name": "stdout",
     "output_type": "stream",
     "text": [
      "g(33, w_by_name=1, y=0) = 33.0\n"
     ]
    }
   ],
   "source": [
    "print('g(33, w_by_name=1, y=0) = {}'.format(g(33, w_by_name=1, y=0)))"
   ]
  },
  {
   "cell_type": "markdown",
   "metadata": {},
   "source": [
    "## Maintaining State with Shared Variables\n",
    "\n",
    "It is also possible to make a function with an internal state. For example, let’s say we want to make an accumulator: at the beginning, the state is initialized to zero. Then, on each function call, the state is incremented by the function’s argument.\n",
    "\n",
    "First let’s define the accumulator function. It adds its argument to the internal state, and returns the old state value."
   ]
  },
  {
   "cell_type": "code",
   "execution_count": 29,
   "metadata": {
    "collapsed": false
   },
   "outputs": [],
   "source": [
    "state = shared(0)\n",
    "inc = T.iscalar('inc')\n",
    "accumulator = function([inc], state, updates=[(state, state+inc)])"
   ]
  },
  {
   "cell_type": "markdown",
   "metadata": {},
   "source": [
    "This code introduces a few new concepts. The `shared` function constructs so-called shared variables. \n",
    "\n",
    "    state = shared(0)\n",
    "\n",
    "These are hybrid symbolic and non-symbolic variables whose value may be shared between multiple functions. Shared variables can be used in symbolic expressions but they also have an internal value that defines the value taken by this symbolic variable in all the functions that use it. It is called a shared variable because its value is shared between many functions. The value can be accessed and modified by the `get_value` and `set_value` methods.\n",
    "\n",
    "The other new thing in this code is the `updates` parameter of function. \n",
    "\n",
    "    updates=[(state, state+inc)\n",
    "\n",
    "`updates` must be supplied with a list of pairs of the form `(shared-variable, new expression)`. It can also be a dictionary whose keys are shared-variables and values are the new expressions. Here, the accumulator replaces the `state`‘s value with the sum of `state` and the increment amount `inc`."
   ]
  },
  {
   "cell_type": "code",
   "execution_count": 30,
   "metadata": {
    "collapsed": false
   },
   "outputs": [
    {
     "name": "stdout",
     "output_type": "stream",
     "text": [
      "0\n"
     ]
    }
   ],
   "source": [
    "print(state.get_value())"
   ]
  },
  {
   "cell_type": "code",
   "execution_count": 31,
   "metadata": {
    "collapsed": false
   },
   "outputs": [
    {
     "name": "stdout",
     "output_type": "stream",
     "text": [
      "0\n"
     ]
    }
   ],
   "source": [
    "print(accumulator(1))"
   ]
  },
  {
   "cell_type": "code",
   "execution_count": 32,
   "metadata": {
    "collapsed": false
   },
   "outputs": [
    {
     "name": "stdout",
     "output_type": "stream",
     "text": [
      "1\n"
     ]
    }
   ],
   "source": [
    "print(state.get_value())"
   ]
  },
  {
   "cell_type": "code",
   "execution_count": 33,
   "metadata": {
    "collapsed": false
   },
   "outputs": [
    {
     "name": "stdout",
     "output_type": "stream",
     "text": [
      "1\n"
     ]
    }
   ],
   "source": [
    "print(accumulator(300))"
   ]
  },
  {
   "cell_type": "code",
   "execution_count": 34,
   "metadata": {
    "collapsed": false
   },
   "outputs": [
    {
     "name": "stdout",
     "output_type": "stream",
     "text": [
      "301\n"
     ]
    }
   ],
   "source": [
    "print(state.get_value())"
   ]
  },
  {
   "cell_type": "markdown",
   "metadata": {},
   "source": [
    "It is possible to reset the state. Just use the `set_value` method:"
   ]
  },
  {
   "cell_type": "code",
   "execution_count": 35,
   "metadata": {
    "collapsed": false
   },
   "outputs": [],
   "source": [
    "state.set_value(-1)"
   ]
  },
  {
   "cell_type": "code",
   "execution_count": 36,
   "metadata": {
    "collapsed": false
   },
   "outputs": [
    {
     "name": "stdout",
     "output_type": "stream",
     "text": [
      "-1\n"
     ]
    }
   ],
   "source": [
    "print(accumulator(3))"
   ]
  },
  {
   "cell_type": "code",
   "execution_count": 37,
   "metadata": {
    "collapsed": false
   },
   "outputs": [
    {
     "name": "stdout",
     "output_type": "stream",
     "text": [
      "2\n"
     ]
    }
   ],
   "source": [
    "print(state.get_value())"
   ]
  },
  {
   "cell_type": "markdown",
   "metadata": {},
   "source": [
    "As we mentioned above, you can define more than one function to use the same shared variable. These functions can all update the value."
   ]
  },
  {
   "cell_type": "code",
   "execution_count": 38,
   "metadata": {
    "collapsed": false
   },
   "outputs": [],
   "source": [
    "decrementor = function([inc], state, updates=[(state, state-inc)])"
   ]
  },
  {
   "cell_type": "code",
   "execution_count": 39,
   "metadata": {
    "collapsed": false
   },
   "outputs": [
    {
     "name": "stdout",
     "output_type": "stream",
     "text": [
      "2\n"
     ]
    }
   ],
   "source": [
    "print(decrementor(2))"
   ]
  },
  {
   "cell_type": "code",
   "execution_count": 40,
   "metadata": {
    "collapsed": false
   },
   "outputs": [
    {
     "name": "stdout",
     "output_type": "stream",
     "text": [
      "0\n"
     ]
    }
   ],
   "source": [
    "print(state.get_value())"
   ]
  },
  {
   "cell_type": "markdown",
   "metadata": {},
   "source": [
    "You might be wondering why the updates mechanism exists. You can always achieve a similar result by returning the new expressions, and working with them in NumPy as usual. While the updates mechanism can be a syntactic convenience, it is mainly there for *efficiency*. Updates to shared variables can sometimes be done more quickly using in-place algorithms (e.g. low-rank matrix updates). Also, Theano has more control over where and how shared variables are allocated, which is one of the important elements of getting good performance on the GPU."
   ]
  },
  {
   "cell_type": "markdown",
   "metadata": {},
   "source": [
    "### Exercise: Create and manipulate Theano objects\n",
    "\n",
    "To give you some practice with basic Theano data structures and functions, try making the operations below work by implementing the functions that are needed."
   ]
  },
  {
   "cell_type": "code",
   "execution_count": null,
   "metadata": {
    "collapsed": false
   },
   "outputs": [],
   "source": [
    "def make_vector():\n",
    "    \"\"\"\n",
    "    Create and return a new Theano vector.\n",
    "    \"\"\"\n",
    "\n",
    "    pass\n",
    "\n",
    "def make_matrix():\n",
    "    \"\"\"\n",
    "    Create and return a new Theano matrix.\n",
    "    \"\"\"\n",
    "\n",
    "    pass\n",
    "\n",
    "def elemwise_mul(a, b):\n",
    "    \"\"\"\n",
    "    a: A theano matrix\n",
    "    b: A theano matrix\n",
    "    \n",
    "    Calcuate the elementwise product of a and b and return it\n",
    "    \"\"\"\n",
    "\n",
    "    pass\n",
    "\n",
    "def matrix_vector_mul(a, b):\n",
    "    \"\"\"\n",
    "    a: A theano matrix\n",
    "    b: A theano vector\n",
    "    \n",
    "    Calculate the matrix-vector product of a and b and return it\n",
    "    \"\"\"\n",
    "\n",
    "    pass\n",
    "\n",
    "a = make_vector()\n",
    "b = make_vector()\n",
    "c = elemwise_mul(a, b)\n",
    "d = make_matrix()\n",
    "e = matrix_vector_mul(d, c)\n",
    "\n",
    "f = function([a, b, d], e)\n",
    "\n",
    "import numpy as np\n",
    "rng = np.random.RandomState([1, 2, 3])\n",
    "a_value = rng.randn(5).astype(a.dtype)\n",
    "b_value = rng.rand(5).astype(b.dtype)\n",
    "c_value = a_value * b_value\n",
    "d_value = rng.randn(5, 5).astype(d.dtype)\n",
    "expected = np.dot(d_value, c_value)\n",
    "\n",
    "actual = f(a_value, b_value, d_value)\n",
    "\n",
    "assert np.allclose(actual, expected)\n",
    "print(\"SUCCESS!\")"
   ]
  },
  {
   "cell_type": "markdown",
   "metadata": {},
   "source": [
    "### Example: Logistic regression\n",
    "\n",
    "Here is a non-trivial example, which uses Theano to estimate the parameters of a logistic regression model using gradient information. We will use the bioassay example as a test case:"
   ]
  },
  {
   "cell_type": "code",
   "execution_count": 44,
   "metadata": {
    "collapsed": false
   },
   "outputs": [],
   "source": [
    "import numpy as np\n",
    "\n",
    "rng = np.random\n",
    "\n",
    "dose = np.array([-0.86, -0.3 , -0.05,  0.73])\n",
    "deaths = np.array([0, 1, 3, 5])\n",
    "training_steps = 1000"
   ]
  },
  {
   "cell_type": "markdown",
   "metadata": {},
   "source": [
    "We first declare Theano symbolic variables:"
   ]
  },
  {
   "cell_type": "code",
   "execution_count": 45,
   "metadata": {
    "collapsed": false
   },
   "outputs": [
    {
     "name": "stdout",
     "output_type": "stream",
     "text": [
      "Initial model: 1.0 0.0\n"
     ]
    }
   ],
   "source": [
    "x = T.vector(\"x\")\n",
    "y = T.vector(\"y\")\n",
    "w = theano.shared(1., name=\"w\")\n",
    "b = theano.shared(0., name=\"b\")\n",
    "\n",
    "print(\"Initial model:\", w.get_value(), b.get_value())"
   ]
  },
  {
   "cell_type": "markdown",
   "metadata": {},
   "source": [
    "... then construct the expression graph:"
   ]
  },
  {
   "cell_type": "code",
   "execution_count": 46,
   "metadata": {
    "collapsed": false
   },
   "outputs": [],
   "source": [
    "# Probability that target = 1\n",
    "p_1 = 1 / (1 + T.exp(-(x*w + b))) \n",
    "\n",
    "# The prediction threshold\n",
    "prediction = p_1 > 0.5         \n",
    "\n",
    "# Cross-entropy loss function\n",
    "xent = -y * T.log(p_1) - (5-y) * T.log(1-p_1) \n",
    "\n",
    "# The cost to minimize\n",
    "cost = xent.mean()      \n",
    "\n",
    "# Compute the gradient of the cost\n",
    "gw, gb = T.grad(cost, [w, b])                  "
   ]
  },
  {
   "cell_type": "markdown",
   "metadata": {},
   "source": [
    "Compile Theano functions:"
   ]
  },
  {
   "cell_type": "code",
   "execution_count": 47,
   "metadata": {
    "collapsed": false
   },
   "outputs": [],
   "source": [
    "step = theano.shared(10., name='step')\n",
    "train = theano.function(\n",
    "          inputs=[x, y],\n",
    "          outputs=[prediction, xent],\n",
    "          updates=((w, w - step * gw), (b, b - step * gb), (step, step * 0.99)))\n",
    "predict = theano.function(inputs=[x], outputs=prediction)"
   ]
  },
  {
   "cell_type": "markdown",
   "metadata": {},
   "source": [
    "Train model:"
   ]
  },
  {
   "cell_type": "code",
   "execution_count": 48,
   "metadata": {
    "collapsed": false
   },
   "outputs": [
    {
     "name": "stdout",
     "output_type": "stream",
     "text": [
      "Final model: 7.795152457520207 0.8536420249656105\n"
     ]
    }
   ],
   "source": [
    "for i in range(training_steps):\n",
    "    pred, err = train(dose, deaths)\n",
    "\n",
    "print(\"Final model:\", w.get_value(), b.get_value())"
   ]
  },
  {
   "cell_type": "code",
   "execution_count": 49,
   "metadata": {
    "collapsed": false
   },
   "outputs": [
    {
     "data": {
      "text/plain": [
       "[<matplotlib.lines.Line2D at 0x107127940>]"
      ]
     },
     "execution_count": 49,
     "metadata": {},
     "output_type": "execute_result"
    },
    {
     "data": {
      "image/png": "[encoded data removed]",
      "text/plain": [
       "<matplotlib.figure.Figure at 0x107127b00>"
      ]
     },
     "metadata": {},
     "output_type": "display_data"
    }
   ],
   "source": [
    "%matplotlib inline\n",
    "import matplotlib.pyplot as plt\n",
    "\n",
    "logit = lambda x: 1. / (1 + np.exp(-x))\n",
    "xvals = np.linspace(-1, 1)\n",
    "plt.plot(xvals, logit(7.8*xvals + .85))\n",
    "plt.plot(dose, deaths/5., 'ro')"
   ]
  },
  {
   "cell_type": "markdown",
   "metadata": {},
   "source": [
    "## Exercises: Gradients and functions\n",
    "\n",
    "Let's try using the Theano automatic gradient system to compute derivatives."
   ]
  },
  {
   "cell_type": "code",
   "execution_count": null,
   "metadata": {
    "collapsed": true
   },
   "outputs": [],
   "source": [
    "def grad_sum(x, y, z):\n",
    "    \"\"\"\n",
    "    x: A theano variable\n",
    "    y: A theano variable\n",
    "    z: A theano expression involving x and y\n",
    "    Returns dz / dx + dz / dy\n",
    "    \"\"\"\n",
    "\n",
    "    pass\n",
    "\n",
    "\n",
    "x = T.scalar()\n",
    "y = T.scalar()\n",
    "z = x + y\n",
    "s = grad_sum(x, y, z)\n",
    "assert s.eval({x: 0, y: 0}) == 2\n",
    "print \"SUCCESS!\""
   ]
  },
  {
   "cell_type": "markdown",
   "metadata": {},
   "source": [
    "Now try compiling and running a simple function:"
   ]
  },
  {
   "cell_type": "code",
   "execution_count": null,
   "metadata": {
    "collapsed": true
   },
   "outputs": [],
   "source": [
    "def evaluate(x, y, expr, x_value, y_value):\n",
    "    \"\"\"\n",
    "    x: A theano variable\n",
    "    y: A theano variable\n",
    "    expr: A theano expression involving x and y\n",
    "    x_value: A numpy value\n",
    "    y_value: A numpy value\n",
    "    Returns the value of expr when x_value is substituted for x\n",
    "    and y_value is substituted for y\n",
    "    \"\"\"\n",
    "\n",
    "    psss\n",
    "\n",
    "\n",
    "x = T.iscalar()\n",
    "y = T.iscalar()\n",
    "z = x + y\n",
    "assert evaluate(x, y, z, 1, 2) == 3\n",
    "print \"SUCCESS!\""
   ]
  },
  {
   "cell_type": "markdown",
   "metadata": {},
   "source": [
    "### Random Numbers\n",
    "\n",
    "Because in Theano you first express everything symbolically and afterwards compile this expression to get functions, using pseudo-random numbers is not as straightforward as it is in NumPy.\n",
    "\n",
    "The way to think about putting randomness into Theano’s computations is to put random variables in your graph. Theano will allocate a NumPy `RandomStream` object (a random number generator) for each such variable, and draw from it as necessary. We will call this sort of sequence of random numbers a random stream. Random streams are at their core shared variables, so the observations on shared variables hold here as well. "
   ]
  },
  {
   "cell_type": "code",
   "execution_count": 50,
   "metadata": {
    "collapsed": false
   },
   "outputs": [],
   "source": [
    "from theano.tensor.shared_randomstreams import RandomStreams\n",
    "\n",
    "srng = RandomStreams(seed=234)\n",
    "rv_u = srng.uniform((2,2))\n",
    "f = function([], rv_u)"
   ]
  },
  {
   "cell_type": "code",
   "execution_count": 51,
   "metadata": {
    "collapsed": false
   },
   "outputs": [
    {
     "data": {
      "text/plain": [
       "array([[ 0.12672381,  0.97091597],\n",
       "       [ 0.13989098,  0.88754825]])"
      ]
     },
     "execution_count": 51,
     "metadata": {},
     "output_type": "execute_result"
    }
   ],
   "source": [
    "f()"
   ]
  },
  {
   "cell_type": "code",
   "execution_count": 52,
   "metadata": {
    "collapsed": false
   },
   "outputs": [
    {
     "data": {
      "text/plain": [
       "array([[ 0.31971415,  0.47584377],\n",
       "       [ 0.24129163,  0.42046081]])"
      ]
     },
     "execution_count": 52,
     "metadata": {},
     "output_type": "execute_result"
    }
   ],
   "source": [
    "f()"
   ]
  },
  {
   "cell_type": "markdown",
   "metadata": {},
   "source": [
    "## Looping in Theano\n",
    "\n",
    "The `scan` function provides the ability to write loops in Theano. We are not able to use Python `for` loops with Theano because Theano needs to be able to build and optimize the expression graph before compiling it into faster code, and be able to use symbolic differentiation for calculating gradients.\n",
    "\n",
    "### Simple loop with accumulation\n",
    "\n",
    "Assume that, given $k$ you want to get $A^k$ using a loop. More precisely, if $A$ is a tensor you want to compute $A^k$ elementwise. The python code might look like:\n",
    "\n",
    "```python\n",
    "result = 1\n",
    "for i in range(k):\n",
    "  result = result * A\n",
    "```\n",
    "\n",
    "There are three things here that we need to handle: the initial value assigned to result, the accumulation of results in result, and the unchanging variable A. Unchanging variables are passed to scan as non_sequences. Initialization occurs in outputs_info, and the accumulation happens automatically.\n",
    "\n",
    "The equivalent Theano code would be:"
   ]
  },
  {
   "cell_type": "code",
   "execution_count": 53,
   "metadata": {
    "collapsed": false
   },
   "outputs": [
    {
     "name": "stdout",
     "output_type": "stream",
     "text": [
      "[  0.   1.   4.   9.  16.  25.  36.  49.  64.  81.]\n",
      "[  0.00000000e+00   1.00000000e+00   1.60000000e+01   8.10000000e+01\n",
      "   2.56000000e+02   6.25000000e+02   1.29600000e+03   2.40100000e+03\n",
      "   4.09600000e+03   6.56100000e+03]\n"
     ]
    }
   ],
   "source": [
    "k = T.iscalar(\"k\")\n",
    "A = T.vector(\"A\")\n",
    "\n",
    "# Symbolic description of the result\n",
    "result, updates = theano.scan(fn=lambda prior_result, A: prior_result * A,\n",
    "                              outputs_info=T.ones_like(A),\n",
    "                              non_sequences=A,\n",
    "                              n_steps=k)\n",
    "\n",
    "# We only care about A**k, but scan has provided us with A**1 through A**k.\n",
    "# Discard the values that we don't care about. Scan is smart enough to\n",
    "# notice this and not waste memory saving them.\n",
    "final_result = result[-1]\n",
    "\n",
    "# compiled function that returns A**k\n",
    "power = theano.function(inputs=[A,k], outputs=final_result, updates=updates)\n",
    "\n",
    "print(power(range(10),2))\n",
    "print(power(range(10),4))"
   ]
  },
  {
   "cell_type": "markdown",
   "metadata": {},
   "source": [
    "Let us go through the example line by line. What we did is first to construct a function (using a lambda expression) that given `prior_result` and `A` returns `prior_result * A`. The order of parameters is fixed by `scan`: the output of the prior call to `fn` is the first parameter, followed by all non-sequences.\n",
    "\n",
    "Next we initialize the output as a tensor with same shape and `dtype` as `A`, filled with ones. We give `A` to `scan` as a non sequence parameter and specify the number of steps `k` to iterate over our `lambda` expression.\n",
    "\n",
    "Scan returns a tuple containing our result (`result`) and a dictionary of updates (empty in this case). Note that the result is not a matrix, but a 3D tensor containing the value of $A^k$ for each step. We want the last value (after k steps) so we compile a function to return just that. Note that there is an optimization, that at compile time will detect that you are using just the last value of the result and ensure that scan does not store all the intermediate values that are used. So do not worry if `A` and `k` are large."
   ]
  },
  {
   "cell_type": "markdown",
   "metadata": {},
   "source": [
    "In addition to looping a fixed number of times, scan can iterate over the leading dimension of tensors (similar to Python’s `for x in a_list`).\n",
    "\n",
    "The tensor(s) to be looped over should be provided to `scan` using the `sequence` keyword argument.\n",
    "\n",
    "Here’s an example that builds a symbolic calculation of a polynomial from a list of its coefficients:"
   ]
  },
  {
   "cell_type": "code",
   "execution_count": 54,
   "metadata": {
    "collapsed": false
   },
   "outputs": [
    {
     "name": "stdout",
     "output_type": "stream",
     "text": [
      "19.0\n"
     ]
    }
   ],
   "source": [
    "coefficients = theano.tensor.vector(\"coefficients\")\n",
    "x = T.scalar(\"x\")\n",
    "\n",
    "# Generate the components of the polynomial\n",
    "components, updates = theano.scan(fn=lambda coefficient, power, val: coefficient * (val ** power),\n",
    "                                  outputs_info=None,\n",
    "                                  sequences=[coefficients, theano.tensor.arange(1000)],\n",
    "                                  non_sequences=x)\n",
    "# Sum them up\n",
    "polynomial = components.sum()\n",
    "\n",
    "# Compile a function\n",
    "calculate_polynomial = theano.function(inputs=[coefficients, x], outputs=polynomial)\n",
    "\n",
    "# Test\n",
    "test_coefficients = np.asarray([1, 0, 2], dtype=np.float32)\n",
    "test_value = 3\n",
    "print(calculate_polynomial(test_coefficients, test_value))"
   ]
  },
  {
   "cell_type": "markdown",
   "metadata": {},
   "source": [
    "## Gradient-based sampling methods in PyMC3\n",
    "\n",
    "PyMC3 has the standard sampling algorithms like adaptive Metropolis-Hastings and adaptive slice sampling, but PyMC3's most capable step method is the No-U-Turn Sampler. NUTS is especially useful on models that have many continuous parameters, a situation where other MCMC algorithms work very slowly. It takes advantage of information about where regions of higher probability are, based on the gradient of the log posterior-density. This helps it achieve dramatically faster convergence on large problems than traditional sampling methods achieve. PyMC3 relies on Theano to analytically compute model gradients via automatic differentiation of the posterior density. NUTS also has several self-tuning strategies for adaptively setting the tunable parameters of Hamiltonian Monte Carlo. For random variables that are undifferentiable (namely, discrete variables) NUTS cannot be used, but it may still be used on the differentiable variables in a model that contains undifferentiable variables. \n",
    "\n",
    "NUTS requires a scaling matrix parameter, which is analogous to the variance parameter for the jump proposal distribution in Metropolis-Hastings, although NUTS uses it somewhat differently. The matrix gives the rough shape of the distribution so that NUTS does not make jumps that are too large in some directions and too small in other directions. It is important to set this scaling parameter to a reasonable value to facilitate efficient sampling. This is especially true for models that have many unobserved stochastic random variables or models with highly non-normal posterior distributions. Poor scaling parameters will slow down NUTS significantly, sometimes almost stopping it completely. A reasonable starting point for sampling can also be important for efficient sampling, but not as often.\n",
    "\n",
    "Fortunately NUTS can often make good guesses for the scaling parameters. If you pass a point in parameter space (as a dictionary of variable names to parameter values, the same format as returned by `find_MAP`) to NUTS, it will look at the local curvature of the log posterior-density (the diagonal of the Hessian matrix) at that point to make a guess for a good scaling vector, which often results in a good value. The MAP estimate is often a good point to use to initiate sampling. It is also possible to supply your own vector or scaling matrix to NUTS, though this is a more advanced use. If you wish to modify a Hessian at a specific point to use as your scaling matrix or vector, you can use `find_hessian` or `find_hessian_diag`."
   ]
  },
  {
   "cell_type": "markdown",
   "metadata": {},
   "source": [
    "## Comparison of Metropolis and NUTS\n",
    "\n",
    "As an informal comparison, we will demonstrate samples generated from a simple statistical model using both the Metropolis and NUTS sampler in PyMC3. The set of examples includes a univariate linear model that is fit to simulated data via the `glm` module. \n",
    "\n",
    "```python\n",
    "with Model() as model:\n",
    "    glm.glm('y ~ x', data)\n",
    "```\n",
    "\n",
    "The model contains three parameters (intercept, slope and sampling standard deviation), each of which is continuous, so the model can be fit by either algorithm. We will run a short chain for each, and compare the output graphically:"
   ]
  },
  {
   "cell_type": "code",
   "execution_count": 165,
   "metadata": {
    "collapsed": false
   },
   "outputs": [
    {
     "name": "stdout",
     "output_type": "stream",
     "text": [
      "Applied log-transform to sd and added transformed sd_log to model.\n"
     ]
    }
   ],
   "source": [
    "from pymc3.examples import glm_linear\n",
    "from pymc3 import sample, Metropolis, NUTS"
   ]
  },
  {
   "cell_type": "code",
   "execution_count": 166,
   "metadata": {
    "collapsed": false
   },
   "outputs": [
    {
     "name": "stdout",
     "output_type": "stream",
     "text": [
      "\r",
      " [-----------------100%-----------------] 1000 of 1000 complete in 0.5 sec"
     ]
    }
   ],
   "source": [
    "with glm_linear.model:\n",
    "    trace_metropolis = sample(1000, step=Metropolis())"
   ]
  },
  {
   "cell_type": "code",
   "execution_count": 167,
   "metadata": {
    "collapsed": false
   },
   "outputs": [
    {
     "name": "stdout",
     "output_type": "stream",
     "text": [
      " [-----------------100%-----------------] 1000 of 1000 complete in 1.3 sec"
     ]
    }
   ],
   "source": [
    "with glm_linear.model:\n",
    "    trace_nuts = sample(1000, step=NUTS())"
   ]
  },
  {
   "cell_type": "code",
   "execution_count": 173,
   "metadata": {
    "collapsed": false
   },
   "outputs": [
    {
     "data": {
      "image/png": "[encoded data removed]",
      "text/plain": [
       "<matplotlib.figure.Figure at 0x1423188d0>"
      ]
     },
     "metadata": {},
     "output_type": "display_data"
    }
   ],
   "source": [
    "traceplot(trace_metropolis);"
   ]
  },
  {
   "cell_type": "code",
   "execution_count": 174,
   "metadata": {
    "collapsed": false
   },
   "outputs": [
    {
     "data": {
      "image/png": "[encoded data removed]",
      "text/plain": [
       "<matplotlib.figure.Figure at 0x1427a82b0>"
      ]
     },
     "metadata": {},
     "output_type": "display_data"
    }
   ],
   "source": [
    "traceplot(trace_nuts);"
   ]
  },
  {
   "cell_type": "markdown",
   "metadata": {},
   "source": [
    "The samples from `Metropolis` shows very poor mixing during the first 1000 iterations, and has clearly converged. The `NUTS` samples are more homogeneous, with better mixing and less autocorrelation."
   ]
  },
  {
   "cell_type": "markdown",
   "metadata": {},
   "source": [
    "## Marginalization of discrete parameters\n",
    "\n",
    "Gradient-based MCMC samplers like HMC and NUTS do not support the sampling of discrete parameters because discrete parameters, being non-continuous, do not support the calculation of gradients. In PyMC3, users are left with two options when dealing with models that include discrete random variables:\n",
    "\n",
    "1. Fit the model using a mixed sampling scheme, with gradient-based samplers for the continuous parameters and Metropolis samplers for the discrete parameters\n",
    "2. Marginalize the discrete parameters out of the model\n",
    "\n",
    "The advantage of the first option is that it is easy; in fact, PyMC3 will do this for you automatically unless you specify otherwise. The disadvantage is that, at best, you sacrifice the efficiency of gradient-based sampling, since you would still need to run models an order of magnitude longer (or more) to allow the discrete variables to converge. Also, the effect on the gradient-based sampler of having other variables not used in the gradient calculation changing at each iteration is not well-known.\n",
    "\n",
    "The advantage of margnialization is that your entire model can then be fit using gradient-based methods, which maximizes sampling efficiency (in terms of effective sample size per iteration). The disadvantage is that it requires some math in order to correctly marginalize the discrete variables.\n",
    "\n",
    "Marginalization is feasible if the discrete variables are bounded. We can try re-formulating the coal mining disasters example from earlier in the course. Recall that the model was described as the following:\n",
    "\n",
    "$$\\begin{array}{ccc}  \n",
    "(y_t | \\tau, \\lambda_1, \\lambda_2) \\sim\\text{Poisson}\\left(r_t\\right), & r_t=\\left\\{\n",
    "\\begin{array}{lll}             \n",
    "\\lambda_1 &\\text{if}& t< \\tau\\\\ \n",
    "\\lambda_2 &\\text{if}& t\\ge \\tau             \n",
    "\\end{array}\\right.,&t\\in[t_l,t_h]\\\\         \n",
    "\\tau \\sim \\text{DiscreteUniform}(t_l, t_h)\\\\         \n",
    "\\lambda_1\\sim \\text{Exponential}(a)\\\\         \n",
    "\\lambda_2\\sim \\text{Exponential}(b)     \n",
    "\\end{array}$$\n",
    "\n",
    "We wish to eliminate the discrete changepoint $\\tau$ by marginalization. That is, we would like to express the factorization of the joint probability as follows:\n",
    "\n",
    "$$\\pi(y, \\lambda_1, \\lambda_2) = L(y | \\lambda_1, \\lambda_2) \\pi(\\lambda_1, \\lambda_2)$$\n",
    "\n",
    "the marginalization proceeds by summing over the values of the discrete parameter (the years in the time series):\n",
    "\n",
    "$$\\begin{array}{}  \n",
    "L(y | \\lambda_1, \\lambda_2) &= \\sum_{t=0}^{110} L(Y | \\lambda_1, \\lambda_2, \\tau=t) p(\\tau=t) \\\\\n",
    "&= \\sum_{t=0}^{110} U(t | 0, 110) \\prod_{s=0}^{110} \\text{Poisson}(y_{s < t}| \\lambda_1) \\text{Poisson}(y_{s >= t}| \\lambda_2)\n",
    "\\end{array}$$"
   ]
  },
  {
   "cell_type": "code",
   "execution_count": 128,
   "metadata": {
    "collapsed": false
   },
   "outputs": [
    {
     "name": "stdout",
     "output_type": "stream",
     "text": [
      "Applied log-transform to early_mean and added transformed early_mean_log to model.\n",
      "Applied log-transform to late_mean and added transformed late_mean_log to model.\n"
     ]
    }
   ],
   "source": [
    "from pymc3 import Exponential, Poisson, switch, log, sum as tsum, exp, Model, Potential\n",
    "\n",
    "disasters_data = np.array([4, 5, 4, 0, 1, 4, 3, 4, 0, 6, 3, 3, 4, 0, 2, 6,\n",
    "                            3, 3, 5, 4, 5, 3, 1, 4, 4, 1, 5, 5, 3, 4, 2, 5,\n",
    "                            2, 2, 3, 4, 2, 1, 3, 2, 2, 1, 1, 1, 1, 3, 0, 0,\n",
    "                            1, 0, 1, 1, 0, 0, 3, 1, 0, 3, 2, 2, 0, 1, 1, 1,\n",
    "                            0, 1, 0, 1, 0, 0, 0, 2, 1, 0, 0, 0, 1, 1, 0, 2,\n",
    "                            3, 3, 1, 1, 2, 1, 1, 1, 1, 2, 4, 2, 0, 0, 1, 4,\n",
    "                            0, 0, 0, 1, 0, 0, 0, 0, 0, 1, 0, 0, 1, 0, 1])\n",
    "years = len(disasters_data)\n",
    "\n",
    "def log_sum_exp(x):\n",
    "     return log(tsum(exp(x)))\n",
    "\n",
    "with Model() as marginal_model:\n",
    "\n",
    "    # Priors for pre- and post-switch mean number of disasters\n",
    "    early_mean = Exponential('early_mean', lam=1.)\n",
    "    late_mean = Exponential('late_mean', lam=1.)\n",
    "\n",
    "    # Generate all possible combinations of switchpoints and years\n",
    "    year_idx = np.arange(years)\n",
    "    s, t = np.array([(t,s) for t in year_idx for s in year_idx]).T\n",
    "    \n",
    "    # Marginalize the switchpoint\n",
    "    log_like = log_sum_exp(-log(years) + Poisson.dist(switch(t<s, early_mean, late_mean))\n",
    "                                               .logp(disasters_data[t]).reshape((years, years)).sum(1))\n",
    "\n",
    "    # Data likelihood\n",
    "    disasters = Potential('disasters', log_like)"
   ]
  },
  {
   "cell_type": "code",
   "execution_count": 132,
   "metadata": {
    "collapsed": false
   },
   "outputs": [
    {
     "name": "stdout",
     "output_type": "stream",
     "text": [
      "Assigned NUTS to early_mean_log\n",
      "Assigned NUTS to late_mean_log\n",
      " [-----------------100%-----------------] 2000 of 2000 complete in 8.8 sec"
     ]
    }
   ],
   "source": [
    "with marginal_model:\n",
    "    trace_marginal = sample(2000)"
   ]
  },
  {
   "cell_type": "code",
   "execution_count": 138,
   "metadata": {
    "collapsed": false
   },
   "outputs": [
    {
     "data": {
      "text/plain": [
       "array([[<matplotlib.axes._subplots.AxesSubplot object at 0x12d9a0048>,\n",
       "        <matplotlib.axes._subplots.AxesSubplot object at 0x12e95a710>],\n",
       "       [<matplotlib.axes._subplots.AxesSubplot object at 0x12bfa6c50>,\n",
       "        <matplotlib.axes._subplots.AxesSubplot object at 0x12a96ca20>]], dtype=object)"
      ]
     },
     "execution_count": 138,
     "metadata": {},
     "output_type": "execute_result"
    },
    {
     "data": {
      "image/png": "[encoded data removed]",
      "text/plain": [
       "<matplotlib.figure.Figure at 0x12883eb38>"
      ]
     },
     "metadata": {},
     "output_type": "display_data"
    }
   ],
   "source": [
    "from pymc3 import plot_posterior\n",
    "\n",
    "plot_posterior(trace_marginal[1000:])"
   ]
  },
  {
   "cell_type": "code",
   "execution_count": 140,
   "metadata": {
    "collapsed": false
   },
   "outputs": [
    {
     "data": {
      "text/plain": [
       "{'early_mean': 1364,\n",
       " 'early_mean_log': 1454,\n",
       " 'late_mean': 1382,\n",
       " 'late_mean_log': 1338}"
      ]
     },
     "execution_count": 140,
     "metadata": {},
     "output_type": "execute_result"
    }
   ],
   "source": [
    "from pymc3 import effective_n\n",
    "\n",
    "effective_n(trace_marginal[1000:])"
   ]
  },
  {
   "cell_type": "markdown",
   "metadata": {},
   "source": [
    "Let's compare this with the original formulation:"
   ]
  },
  {
   "cell_type": "code",
   "execution_count": 105,
   "metadata": {
    "collapsed": false
   },
   "outputs": [
    {
     "name": "stdout",
     "output_type": "stream",
     "text": [
      "Applied log-transform to early_mean and added transformed early_mean_log to model.\n",
      "Applied log-transform to late_mean and added transformed late_mean_log to model.\n"
     ]
    }
   ],
   "source": [
    "from pymc3 import DiscreteUniform\n",
    "\n",
    "with Model() as original_model:\n",
    "\n",
    "    # Prior for distribution of switchpoint location\n",
    "    switchpoint = DiscreteUniform('switchpoint', lower=0, upper=years)\n",
    "    # Priors for pre- and post-switch mean number of disasters\n",
    "    early_mean = Exponential('early_mean', lam=1.)\n",
    "    late_mean = Exponential('late_mean', lam=1.)\n",
    "\n",
    "    # Allocate appropriate Poisson rates to years before and after current\n",
    "    # switchpoint location\n",
    "    idx = np.arange(years)\n",
    "    rate = switch(switchpoint >= idx, early_mean, late_mean)\n",
    "\n",
    "    # Data likelihood\n",
    "    disasters = Poisson('disasters', rate, observed=disasters_data)"
   ]
  },
  {
   "cell_type": "code",
   "execution_count": 135,
   "metadata": {
    "collapsed": false
   },
   "outputs": [
    {
     "name": "stdout",
     "output_type": "stream",
     "text": [
      "Assigned Metropolis to switchpoint\n",
      "Assigned NUTS to early_mean_log\n",
      "Assigned NUTS to late_mean_log\n",
      " [-----------------100%-----------------] 2000 of 2000 complete in 3.5 sec"
     ]
    }
   ],
   "source": [
    "with original_model:\n",
    "    trace_original = sample(2000, njobs=2)"
   ]
  },
  {
   "cell_type": "code",
   "execution_count": 141,
   "metadata": {
    "collapsed": false
   },
   "outputs": [
    {
     "data": {
      "text/plain": [
       "{'early_mean': 1222,\n",
       " 'early_mean_log': 1182,\n",
       " 'late_mean': 1086,\n",
       " 'late_mean_log': 1045,\n",
       " 'switchpoint': 292}"
      ]
     },
     "execution_count": 141,
     "metadata": {},
     "output_type": "execute_result"
    }
   ],
   "source": [
    "effective_n(trace_original[1000:])"
   ]
  },
  {
   "cell_type": "markdown",
   "metadata": {},
   "source": [
    "## References\n",
    "\n",
    "1. [DeepLearning documentation and tutorials](http://deeplearning.net/tutorial/contents.html)\n",
    "\n"
   ]
  }
 ],
 "metadata": {
  "kernelspec": {
   "display_name": "Python 3",
   "language": "python",
   "name": "python3"
  },
  "language_info": {
   "codemirror_mode": {
    "name": "ipython",
    "version": 3
   },
   "file_extension": ".py",
   "mimetype": "text/x-python",
   "name": "python",
   "nbconvert_exporter": "python",
   "pygments_lexer": "ipython3",
   "version": "3.5.1"
  }
 },
 "nbformat": 4,
 "nbformat_minor": 1
}
