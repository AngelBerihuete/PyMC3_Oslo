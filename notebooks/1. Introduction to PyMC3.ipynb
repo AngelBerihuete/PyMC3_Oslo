{
 "cells": [
  {
   "cell_type": "markdown",
   "metadata": {},
   "source": [
    "# Introduction to PyMC3\n",
    "\n",
    "\n",
    "Probabilistic programming (PP) allows flexible specification of Bayesian statistical models in code. PyMC3 is a new, open-source PP framework with an intuitive and readable, yet powerful, syntax that is close to the natural syntax statisticians use to describe models. It features next-generation Markov chain Monte Carlo (MCMC) sampling algorithms such as the No-U-Turn Sampler (NUTS; Hoffman, 2014), a self-tuning variant of Hamiltonian Monte Carlo (HMC; Duane, 1987). This class of samplers works well on high dimensional and complex posterior distributions and allows many complex models to be fit without specialized knowledge about fitting algorithms. HMC and NUTS take advantage of gradient information from the likelihood to achieve much faster convergence than traditional sampling methods, especially for larger models. NUTS also has several self-tuning strategies for adaptively setting the tunable parameters of Hamiltonian Monte Carlo, which means you usually don't need to have specialized knowledge about how the algorithms work. PyMC3, Stan (Stan Development Team, 2014), and the LaplacesDemon package for R are currently the only PP packages to offer HMC.\n",
    "\n",
    "### PyMC3 Features\n",
    "\n",
    "Probabilistic programming in Python confers a number of advantages including multi-platform compatibility, an expressive yet clean and readable syntax, easy integration with other scientific libraries, and extensibility via C, C++, Fortran or Cython. These features make it relatively straightforward to write and use custom statistical distributions, samplers and transformation functions, as required by Bayesian analysis.\n",
    "\n",
    "PyMC3's feature set helps to make Bayesian analysis as painless as possible. Here is a short list of some of its features:\n",
    "\n",
    "-   Fits Bayesian statistical models with Markov chain Monte Carlo, variational inference and\n",
    "    other algorithms.\n",
    "-   Includes a large suite of well-documented statistical distributions.\n",
    "-   Creates summaries including tables and plots.\n",
    "-   Traces can be saved to the disk as plain text, SQLite or pandas dataframes.\n",
    "-   Several convergence diagnostics and model checking methods are available.\n",
    "-   Extensible: easily incorporates custom step methods and unusual probability distributions.\n",
    "-   MCMC loops can be embedded in larger programs, and results can be analyzed with the full power of Python.\n",
    "\n",
    "Here, we present a primer on the use of PyMC3 for solving general Bayesian statistical inference and prediction problems. We will first see the basics of how to use PyMC3, motivated by a simple example: installation, data creation, model definition, model fitting and posterior analysis. Then we will cover two case studies and use them to show how to define and fit more sophisticated models. Finally we will show how to extend PyMC3 and discuss other useful features: the Generalized Linear Models subpackage, custom distributions, custom transformations and alternative storage backends."
   ]
  },
  {
   "cell_type": "code",
   "execution_count": 3,
   "metadata": {
    "collapsed": true
   },
   "outputs": [],
   "source": [
    "# %load ../data/melanoma_data.py\n",
    "from numpy import reshape, sum\n",
    "\n",
    "melanoma_data = reshape([1.57808, 0.00000, 2, 1.27, 35.9945, 1, 1.48219,\n",
    "     0.00000, 2, 0.76, 41.9014, 1, 0.0, 7.33425, 1, 35.00, 70.2164, 2, 2.23288,\n",
    "     0.00000, 1, 1.70, 33.7096, 1, 0.0, 9.38356, 2, 1.00, 47.9726, 1, 3.27671,\n",
    "     0.00000, 1, 11.00, 31.8219, 2, 0.0, 9.64384, 1, 6.50, 32.9479, 1, 1.66575,\n",
    "     0.00000, 2, 3.62, 35.9205, 1, 0.94247, 0.00000, 1, 8.50, 40.5068, 2,\n",
    "     1.68767, 0.00000, 2, 4.20, 57.0384, 1, 2.34247, 0.00000, 2, 5.00, 62.0630, 1,\n",
    "     0.89863, 0.00000, 1, 2.25, 56.5342, 1, 0.0, 9.03288, 2, 2.30, 22.9945, 2,\n",
    "     0.0, 9.63014, 2, 10.00, 18.4712, 1, 0.52603, 0.00000, 1, 3.35, 41.2521, 1,\n",
    "     1.82192, 0.00000, 2, 3.80, 29.5178, 1, 0.93425, 0.00000, 1, 0.75, 59.0493, 2,\n",
    "     0.0, 8.98630, 2, 0.50, 32.2877, 1, 3.35068, 0.00000, 1, 0.46, 26.4822, 1,\n",
    "     8.67397, 0.00000, 1, 2.55, 55.0411, 1, 0.41096, 0.00000, 2, 1.95, 55.1233, 2,\n",
    "     2.78630, 0.00000, 1, 2.50, 22.4055, 2, 2.56438, 0.00000, 1, 2.10, 50.8466, 1,\n",
    "     0.0, 8.75342, 2, 9.00, 56.0274, 1, 0.56986, 0.00000, 2, 5.00, 55.4767, 1,\n",
    "     0.0, 8.40000, 1, 0.55, 41.2411, 1, 0.0, 7.25205, 1, 12.50, 32.7425, 1,\n",
    "     4.38630, 0.00000, 2, 1.16, 45.3479, 1, 0.0, 8.36712, 2, 4.25, 42.8438, 2,\n",
    "     0.0, 8.99178, 2, 15.00, 51.1068, 1, 0.86575, 0.00000, 2, 0.72, 30.1808, 1,\n",
    "     0.0, 4.76986, 1, 1.50, 58.7014, 2, 1.15616, 0.00000, 2, 6.50, 51.5397, 1,\n",
    "     0.0, 7.28767, 1, 2.75, 27.1973, 1, 3.13151, 0.00000, 1, 3.83, 67.6740, 1,\n",
    "     0.0, 8.55068, 2, 1.80, 64.4274, 2, 0.0, 8.45753, 2, 4.75, 35.4411, 1,\n",
    "     4.59452, 0.00000, 1, 5.80, 35.9452, 1, 2.88219, 0.00000, 2, 0.51, 48.1370, 1,\n",
    "     0.89589, 0.00000, 1, 3.25, 58.6082, 1, 1.76164, 0.00000, 2, 0.90, 40.0137, 2,\n",
    "     0.0, 7.81370, 1, 3.45, 26.0055, 1, 0.0, 8.33425, 2, 1.38, 36.9616, 1,\n",
    "     2.62192, 0.00000, 1, 5.28, 25.9068, 2, 0.16164, 0.00000, 2, 3.00, 63.8055, 1,\n",
    "     0.0, 8.24658, 1, 2.20, 29.6986, 2, 1.52603, 0.00000, 1, 7.00, 61.6384, 1,\n",
    "     5.30959, 0.00000, 1, 4.00, 49.9918, 1, 0.87123, 0.00000, 2, 2.36, 37.1068, 1,\n",
    "     0.41644, 0.00000, 1, 1.06, 53.4658, 2, 4.24110, 0.00000, 1, 6.50, 57.7425, 2,\n",
    "     0.13699, 0.00000, 1, 10.00, 29.1479, 1, 7.07671, 0.00000, 2, 1.20, 59.2466,\n",
    "     1, 0.13151, 0.00000, 2, 15.00, 61.3507, 2, 0.0, 8.02740, 1, 0.49, 33.9205,\n",
    "     2, 0.0, 6.16164, 2, 1.60, 43.1918, 1, 1.29863, 0.00000, 2, 11.50, 34.1890,\n",
    "     2, 1.29041, 0.00000, 2, 1.90, 58.3808, 2, 0.0, 7.99726, 1, 4.80, 21.9479,\n",
    "     2, 0.0, 8.34795, 1, 0.55, 35.1151, 1, 0.0, 7.30137, 2, 6.50, 31.6493, 1,\n",
    "     2.32877, 0.00000, 2, 12.00, 56.1890, 1, 0.56438, 0.00000, 1, 7.00, 60.7123,\n",
    "     1, 5.62740, 0.00000, 2, 6.50, 58.8329, 2, 1.23014, 0.00000, 1, 1.60,\n",
    "     44.4849, 2, 0.0, 7.94521, 1, 1.15, 51.1315, 2, 5.06301, 0.00000, 1, 2.65,\n",
    "     34.2164, 1, 3.27671, 0.00000, 2, 2.00, 35.2301, 1, 0.0, 0.60822, 2, 2.50,\n",
    "     32.7425, 2, 0.65753, 0.00000, 1, 4.38, 38.0986, 2, 0.84110, 0.00000, 2,\n",
    "     2.93, 45.7699, 1, 0.0, 8.40000, 2, 3.00, 44.2000, 1, 0.18356, 0.00000, 1,\n",
    "     2.50, 71.3260, 1, 2.62466, 0.00000, 2, 2.30, 59.0795, 1, 0.0, 7.96438, 2,\n",
    "     2.00, 35.3836, 2, 0.0, 7.77808, 1, 0.75, 58.0438, 2, 0.22192, 0.00000, 1,\n",
    "     5.00, 43.2164, 1, 2.33973, 0.00000, 1, 10.00, 60.4932, 1, 0.52329, 0.00000,\n",
    "     1, 0.87, 32.4795, 2, 0.0, 8.04110, 2, 1.33, 60.2986, 1, 0.0, 7.83288, 1,\n",
    "     5.60, 47.1342, 1, 0.64110, 0.00000, 1, 2.55, 42.3233, 1, 0.38356, 0.00000,\n",
    "     1, 6.50, 54.4164, 1, 0.0, 7.82192, 2, 1.20, 51.4219, 1, 0.51781, 0.00000,\n",
    "     2, 3.00, 46.5973, 1, 0.0, 8.09863, 2, 2.55, 58.3562, 1, 0.0, 8.16712, 2,\n",
    "     1.61, 25.6712, 2, 4.42740, 0.00000, 1, 1.40, 29.1726, 1, 0.88493, 0.00000,\n",
    "     1, 2.25, 18.6795, 1, 2.78356, 0.00000, 1, 4.50, 60.9671, 2, 2.64658,\n",
    "     0.00000, 2, 0.81, 63.8849, 2, 0.0, 8.21370, 2, 1.30, 37.9808, 2, 0.0,\n",
    "     7.41918, 2, 3.20, 32.3507, 2, 0.99726, 0.00000, 1, 1.29, 42.9589, 1,\n",
    "     5.88493, 0.00000, 2, 4.40, 40.9562, 1, 0.41644, 0.00000, 1, 6.00, 61.9753, 1,\n",
    "     3.53699, 0.00000, 1, 3.93, 55.3315, 2, 0.0, 7.56164, 1, 0.60, 36.0767, 1,\n",
    "     0.0, 7.53151, 1, 0.75, 50.6795, 1, 0.27671, 0.00000, 1, 0.73, 66.6986, 1,\n",
    "     0.76986, 0.00000, 2, 0.20, 29.3479, 2, 0.0, 7.62192, 2, 3.88, 33.1863, 1,\n",
    "     0.0, 7.79726, 1, 2.48, 48.6356, 2, 0.64110, 0.00000, 1, 2.50, 29.4877, 1,\n",
    "     1.14521, 0.00000, 2, 10.00, 42.6685, 1, 2.01644, 0.00000, 1, 16.00, 24.4055,\n",
    "     2, 2.84384, 0.00000, 1, 4.00, 40.3890, 1, 0.0, 7.00000, 2, 1.35, 45.4192,\n",
    "     1, 1.27397, 0.00000, 2, 3.00, 65.3945, 1, 0.0, 7.09589, 1, 10.72, 47.5753,\n",
    "     2, 2.04110, 0.00000, 1, 1.50, 58.4438, 2, 0.83562, 0.00000, 1, 3.50,\n",
    "     59.2767, 2, 0.92329, 0.00000, 1, 1.10, 30.2630, 2, 0.07397, 0.00000, 1,\n",
    "     1.00, 40.7370, 1, 0.0, 7.30685, 2, 5.10, 44.7452, 1, 2.07671, 0.00000, 2,\n",
    "     0.50, 67.8329, 1, 0.0, 7.70959, 2, 4.03, 27.7452, 1, 0.0, 6.15890, 1,\n",
    "     1.80, 25.9260, 2, 0.0, 6.89315, 2, 3.50, 31.2740, 1, 3.30685, 0.00000, 1,\n",
    "     1.15, 58.8822, 2, 0.36164, 0.00000, 1, 1.75, 57.0575, 1, 1.97808, 0.00000,\n",
    "     2, 2.50, 59.8137, 1, 1.23836, 0.00000, 2, 2.10, 77.5151, 1, 0.10685,\n",
    "     0.00000, 1, 1.35, 43.4219, 1, 0.0, 7.63836, 1, 4.50, 52.2082, 1, 2.06301,\n",
    "     0.00000, 1, 0.50, 36.3205, 2, 0.0, 7.42466, 2, 2.30, 25.9781, 1, 0.50959,\n",
    "     0.00000, 1, 4.00, 49.4411, 1, 0.65753, 0.00000, 1, 5.40, 57.9589, 1, 0.0,\n",
    "     6.93151, 1, 6.00, 65.5644, 1, 0.0, 7.23288, 2, 5.10, 72.3425, 1, 6.01096,\n",
    "     0.00000, 1, 4.50, 68.8548, 1, 0.33699, 0.00000, 1, 1.45, 50.4438, 2, 0.0,\n",
    "     6.47123, 2, 3.38, 48.2877, 1, 0.94795, 0.00000, 1, 3.00, 46.9479, 2,\n",
    "     2.91781, 0.00000, 2, 1.20, 33.6000, 2, 1.59726, 0.00000, 2, 7.30, 51.1644, 2,\n",
    "     0.84932, 0.00000, 2, 1.67, 47.7836, 1, 1.38356, 0.00000, 1, 4.00, 53.8795, 2,\n",
    "     3.81644, 0.00000, 2, 2.10, 38.7068, 2, 0.0, 7.06849, 1, 10.00, 69.3205, 2,\n",
    "     0.0, 7.04110, 2, 3.50, 66.0219, 1, 1.00274, 0.00000, 2, 1.10, 36.0329, 2,\n",
    "     0.0, 6.34795, 2, 0.40, 63.4603, 1, 1.18082, 0.00000, 1, 0.70, 48.8986, 2,\n",
    "     0.97534, 0.00000, 1, 5.00, 45.0575, 1, 2.16712, 0.00000, 1, 0.85, 57.6712, 2,\n",
    "     0.0, 6.85479, 1, 4.80, 45.2000, 1, 1.38356, 0.00000, 1, 1.20, 49.0438, 1,\n",
    "     1.71507, 0.00000, 2, 1.30, 51.4630, 1, 0.79452, 0.00000, 2, 5.80, 34.5479, 1,\n",
    "     0.0, 6.86301, 2, 6.00, 47.6438, 2, 0.0, 6.50411, 1, 3.00, 38.7233, 2,\n",
    "     0.42466, 0.00000, 2, 1.88, 54.0658, 1, 0.98630, 0.00000, 1, 2.60, 45.7397, 1,\n",
    "     0.0, 6.13699, 2, 2.70, 47.2822, 2, 3.80000, 0.00000, 2, 6.00, 62.6411, 1,\n",
    "     0.0, 6.48493, 1, 4.00, 62.0192, 2, 0.0, 6.96438, 2, 1.71, 41.0904, 2, 0.0,\n",
    "     6.78082, 2, 1.60, 50.2712, 2, 0.56164, 0.00000, 2, 1.50, 49.5288, 2,\n",
    "     2.67123, 0.00000, 1, 3.00, 70.8192, 1, 1.56712, 0.00000, 2, 0.90, 59.0712, 1,\n",
    "     2.07397, 0.00000, 2, 4.00, 53.9041, 1, 0.33973, 0.00000, 1, 2.80, 44.7342, 1,\n",
    "     3.37808, 0.00000, 2, 0.80, 22.1397, 1, 3.15068, 0.00000, 1, 0.70, 72.8575, 1,\n",
    "     0.0, 6.81096, 2, 0.90, 61.4521, 1, 3.20822, 0.00000, 2, 12.00, 61.2904, 1,\n",
    "     0.62740, 0.00000, 1, 5.78, 34.7507, 1, 1.64384, 0.00000, 1, 0.60, 67.4164, 2,\n",
    "     1.40822, 0.00000, 1, 12.00, 53.2493, 1, 0.0, 6.06575, 1, 4.00, 49.0082, 1,\n",
    "     1.66301, 0.00000, 2, 0.45, 56.7699, 1, 1.36986, 0.00000, 2, 1.30, 34.0247, 2,\n",
    "     5.46849, 0.00000, 1, 0.81, 34.3014, 2, 0.42740, 0.00000, 1, 3.20, 45.0712, 2,\n",
    "     1.13973, 0.00000, 2, 4.00, 54.7671, 2, 1.73699, 0.00000, 2, 4.77, 42.8548, 2,\n",
    "     0.0, 5.54521, 2, 2.20, 36.6301, 2, 0.85205, 0.00000, 1, 3.00, 43.2466, 1,\n",
    "     0.43014, 0.00000, 1, 3.00, 53.3562, 1, 1.20822, 0.00000, 2, 0.80, 35.3534, 1,\n",
    "     4.36164, 0.00000, 1, 4.00, 36.5233, 1, 0.52877, 0.00000, 2, 5.00, 52.7863, 1,\n",
    "     0.0, 6.51507, 1, 2.00, 24.4329, 2, 2.89863, 0.00000, 2, 3.85, 58.7178, 1,\n",
    "     0.0, 6.20274, 2, 0.76, 45.5479, 1, 1.21644, 0.00000, 2, 0.75, 43.3014, 2,\n",
    "     0.0, 6.00000, 2, 6.50, 51.4055, 2, 0.0, 6.25479, 1, 0.85, 38.9671, 2, 0.0,\n",
    "     6.49863, 1, 4.30, 68.2658, 1, 1.13699, 0.00000, 2, 2.10, 59.4493, 2,\n",
    "     1.69589, 0.00000, 1, 1.50, 30.0192, 1, 0.0, 6.41096, 2, 2.00, 22.1562, 2,\n",
    "     0.0, 6.02192, 1, 11.00, 54.7671, 1, 3.04932, 0.00000, 2, 4.88, 45.0384, 1,\n",
    "     0.0, 5.62740, 2, 5.20, 39.7589, 1, 0.72603, 0.00000, 1, 3.04, 41.3808, 1,\n",
    "     0.73425, 0.00000, 2, 8.00, 34.9671, 1, 1.47945, 0.00000, 2, 1.60, 46.3479, 1,\n",
    "     0.37808, 0.00000, 2, 1.10, 29.9233, 2, 0.0, 5.75890, 2, 3.00, 32.8740, 1,\n",
    "     1.48219, 0.00000, 2, 10.00, 39.5397, 2, 0.0, 5.88493, 1, 1.95, 55.4822, 1,\n",
    "     0.0, 1.80274, 1, 2.00, 32.3562, 1, 1.40548, 0.00000, 2, 3.70, 41.8027, 2,\n",
    "     0.0, 4.74795, 1, 2.90, 35.3452, 2, 0.0, 5.24658, 1, 1.80, 50.4795, 1,\n",
    "     0.29041, 0.00000, 1, 6.00, 61.3507, 2, 0.0, 5.83836, 1, 1.50, 67.3562, 1,\n",
    "     0.0, 5.32055, 2, 1.75, 53.8548, 2, 5.16712, 0.00000, 2, 5.00, 78.7315, 2,\n",
    "     0.0, 5.59178, 2, 0.63, 62.7233, 1, 0.0, 5.77808, 1, 1.15, 65.1507, 1,\n",
    "     0.53425, 0.00000, 2, 1.50, 34.8274, 1, 0.0, 2.22466, 1, 0.98, 33.8466, 2,\n",
    "     3.59726, 0.00000, 1, 5.00, 67.8822, 1, 0.0, 5.32329, 1, 5.50, 66.0712, 2,\n",
    "     1.78630, 0.00000, 2, 1.00, 55.0658, 2, 0.70411, 0.00000, 2, 10.00, 50.5123,\n",
    "     1, 0.0, 4.94795, 2, 5.00, 42.4055, 2, 0.0, 5.45479, 2, 3.75, 58.1068, 2,\n",
    "     4.32877, 0.00000, 1, 10.00, 26.0137, 1, 1.16164, 0.00000, 2, 3.00, 54.4685,\n",
    "     1, 0.0, 5.20274, 2, 8.00, 54.0630, 2, 0.0, 4.40822, 1, 1.64, 34.5589, 1,\n",
    "     1.41096, 0.00000, 1, 4.95, 58.5068, 1, 0.0, 4.92877, 2, 1.45, 63.9370, 1,\n",
    "     0.0, 5.42192, 2, 12.00, 49.8274, 2, 0.98904, 0.00000, 1, 2.05, 50.5562, 1,\n",
    "     0.36438, 0.00000, 1, 3.60, 40.4795, 2, 0.0, 4.38082, 1, 8.30, 61.7479, 2,\n",
    "     0.77260, 0.00000, 2, 0.45, 41.6712, 1, 4.90959, 0.00000, 2, 3.00, 25.5096, 1,\n",
    "     1.26849, 0.00000, 1, 4.40, 61.2000, 1, 0.58082, 0.00000, 2, 1.10, 53.1260, 1,\n",
    "     0.0, 4.95616, 1, 1.05, 40.4658, 1, 0.0, 5.12329, 1, 1.71, 60.3068, 1, 0.0,\n",
    "     4.74795, 1, 6.30, 48.7425, 2, 0.0, 4.90685, 2, 0.50, 46.7562, 2, 1.41918,\n",
    "     0.00000, 1, 5.10, 34.8932, 2, 0.44110, 0.00000, 1, 6.00, 33.3096, 1, 0.0,\n",
    "     4.29863, 2, 1.50, 35.7589, 1, 0.0, 4.63836, 2, 0.36, 49.8575, 1, 0.0,\n",
    "     4.81370, 1, 3.00, 57.3726, 2, 4.50137, 0.00000, 2, 1.24, 29.7726, 2,\n",
    "     3.92329, 0.00000, 2, 0.70, 51.8822, 2, 0.0, 4.86027, 2, 0.80, 65.3123, 2,\n",
    "     0.52603, 0.00000, 1, 1.00, 52.0658, 2, 2.10685, 0.00000, 2, 3.38, 60.9534, 2,\n",
    "     0.0, 4.24384, 1, 1.52, 32.6055, 2, 3.39178, 0.00000, 1, 2.20, 51.5123, 2,\n",
    "     0.0, 4.36164, 2, 2.10, 48.6548, 1, 0.0, 4.81918, 2, 1.40, 43.8438, 2],\n",
    "(255, 6))\n",
    "\n",
    "# Censoring indicator\n",
    "censored = (melanoma_data[:, 0] == 0).astype(int)\n",
    "# Time\n",
    "t = sum(melanoma_data[:, 0:2], 1)\n",
    "# Treatment\n",
    "treat = melanoma_data[:, 2].astype(int) - 1\n",
    "# Breslow scale\n",
    "breslow = melanoma_data[:, 3]\n",
    "# Age and sex\n",
    "age = melanoma_data[:, 4]\n",
    "sex = melanoma_data[:, 5].astype(int) - 1\n"
   ]
  },
  {
   "cell_type": "code",
   "execution_count": 4,
   "metadata": {
    "collapsed": false
   },
   "outputs": [],
   "source": [
    "%matplotlib inline\n",
    "import seaborn as sns; sns.set_context('notebook')\n",
    "from pymc3 import Normal, Model, DensityDist, sample, log, exp\n",
    "\n",
    "with Model() as melanoma_survival:\n",
    "\n",
    "    # Convert censoring indicators to indicators for failure event\n",
    "    failure = (censored==0).astype(int)\n",
    "\n",
    "    # Parameters (intercept and treatment effect) for survival rate\n",
    "    beta = Normal('beta', mu=0.0, sd=1e5, shape=2)\n",
    "\n",
    "    # Survival rates, as a function of treatment\n",
    "    lam = exp(beta[0] + beta[1]*treat)\n",
    "    \n",
    "    # Survival likelihood, accounting for censoring\n",
    "    def logp(failure, value):\n",
    "        return (failure * log(lam) - lam * value).sum()\n",
    "\n",
    "    x = DensityDist('x', logp, observed={'failure':failure, 'value':t})\n"
   ]
  },
  {
   "cell_type": "markdown",
   "metadata": {},
   "source": [
    "This example will generate 1000 posterior samples."
   ]
  },
  {
   "cell_type": "code",
   "execution_count": 5,
   "metadata": {
    "collapsed": false
   },
   "outputs": [
    {
     "name": "stdout",
     "output_type": "stream",
     "text": [
      "Assigned NUTS to beta\n",
      " [-----------------100%-----------------] 1000 of 1000 complete in 0.5 sec"
     ]
    }
   ],
   "source": [
    "with melanoma_survival:\n",
    "    trace = sample(1000)"
   ]
  },
  {
   "cell_type": "code",
   "execution_count": 6,
   "metadata": {
    "collapsed": false
   },
   "outputs": [
    {
     "data": {
      "image/png": "[encoded data removed]",
      "text/plain": [
       "<matplotlib.figure.Figure at 0x11743bf98>"
      ]
     },
     "metadata": {},
     "output_type": "display_data"
    }
   ],
   "source": [
    "from pymc3 import traceplot\n",
    "\n",
    "traceplot(trace[500:], varnames=['beta']);"
   ]
  },
  {
   "cell_type": "markdown",
   "metadata": {},
   "source": [
    "## Motivating Example: Coal mining disasters\n",
    "\n",
    "Consider the following time series of recorded coal mining disasters in the UK from 1851 to 1962 (Jarrett, 1979). The number of disasters is thought to have been affected by changes in safety regulations during this period.\n",
    "\n",
    "Let's build a model for this series and attempt to estimate when the change occurred."
   ]
  },
  {
   "cell_type": "code",
   "execution_count": 7,
   "metadata": {
    "collapsed": false
   },
   "outputs": [
    {
     "data": {
      "image/png": "[encoded data removed]",
      "text/plain": [
       "<matplotlib.figure.Figure at 0x1175fdac8>"
      ]
     },
     "metadata": {},
     "output_type": "display_data"
    }
   ],
   "source": [
    "import numpy as np\n",
    "import matplotlib.pyplot as plt\n",
    "\n",
    "disasters_data = np.array([4, 5, 4, 0, 1, 4, 3, 4, 0, 6, 3, 3, 4, 0, 2, 6,\n",
    "                         3, 3, 5, 4, 5, 3, 1, 4, 4, 1, 5, 5, 3, 4, 2, 5,\n",
    "                         2, 2, 3, 4, 2, 1, 3, 2, 2, 1, 1, 1, 1, 3, 0, 0,\n",
    "                         1, 0, 1, 1, 0, 0, 3, 1, 0, 3, 2, 2, 0, 1, 1, 1,\n",
    "                         0, 1, 0, 1, 0, 0, 0, 2, 1, 0, 0, 0, 1, 1, 0, 2,\n",
    "                         3, 3, 1, 1, 2, 1, 1, 1, 1, 2, 4, 2, 0, 0, 1, 4,\n",
    "                         0, 0, 0, 1, 0, 0, 0, 0, 0, 1, 0, 0, 1, 0, 1])\n",
    "\n",
    "n_years = len(disasters_data)\n",
    "\n",
    "plt.figure(figsize=(12.5, 3.5))\n",
    "plt.bar(np.arange(1851, 1962), disasters_data, color=\"#348ABD\")\n",
    "plt.xlabel(\"Year\")\n",
    "plt.ylabel(\"Disasters\")\n",
    "plt.title(\"UK coal mining disasters, 1851-1962\")\n",
    "plt.xlim(1851, 1962);"
   ]
  },
  {
   "cell_type": "markdown",
   "metadata": {},
   "source": [
    "We represent our conceptual model formally as a statistical model:\n",
    "\n",
    "$$\\begin{array}{ccc}  \n",
    "(y_t | \\tau, \\lambda_1, \\lambda_2) \\sim\\text{Poisson}\\left(r_t\\right), & r_t=\\left\\{\n",
    "\\begin{array}{lll}             \n",
    "\\lambda_1 &\\text{if}& t< \\tau\\\\ \n",
    "\\lambda_2 &\\text{if}& t\\ge \\tau             \n",
    "\\end{array}\\right.,&t\\in[t_l,t_h]\\\\         \n",
    "\\tau \\sim \\text{DiscreteUniform}(t_l, t_h)\\\\         \n",
    "\\lambda_1\\sim \\text{Exponential}(a)\\\\         \n",
    "\\lambda_2\\sim \\text{Exponential}(b)     \n",
    "\\end{array}$$\n",
    "\n",
    "Because we have defined $y$ by its dependence on $\\tau$, $\\lambda_1$ and $\\lambda_2$, the latter three are known as the *parents* of $y$ and $D$ is called their *child*. Similarly, the parents of $\\tau$ are $t_l$ and $t_h$, and $\\tau$ is the child of $t_l$ and $t_h$.\n",
    "\n",
    "## Implementing a PyMC Model\n",
    "\n",
    "At the model-specification stage (before the data are observed), $y$, $\\tau$, $\\lambda_1$, and $\\lambda_2$ are all random variables. Bayesian \"random\" variables have not necessarily arisen from a physical random process. The Bayesian interpretation of probability is *epistemic*, meaning random variable $x$'s probability distribution $p(x)$ represents our knowledge and uncertainty about $x$'s value. Candidate values of $x$ for which $p(x)$ is high are relatively more probable, given what we know. \n",
    "\n",
    "We can generally divide the variables in a Bayesian model into two types: *stochastic* and *deterministic*. The only deterministic variable in this model is $r$. If we knew the values of $r$'s parents, we could compute the value of $r$ exactly. A deterministic like $r$ is defined by a mathematical function that returns its value given values for its parents. Deterministic variables are sometimes called the *systemic* part of the model. The nomenclature is a bit confusing, because these objects usually represent random variables; since the parents of $r$ are random, $r$ is random also.\n",
    "\n",
    "On the other hand, even if the values of the parents of variables `switchpoint`, `disasters` (before observing the data), `early_mean` or `late_mean` were known, we would still be uncertain of their values. These variables are stochastic, characterized by probability distributions that express how plausible their candidate values are, given values for their parents.\n",
    "\n",
    "Let's begin by defining the unknown switchpoint as a discrete uniform random variable:"
   ]
  },
  {
   "cell_type": "code",
   "execution_count": 8,
   "metadata": {
    "collapsed": false
   },
   "outputs": [],
   "source": [
    "from pymc3 import DiscreteUniform\n",
    "\n",
    "with Model() as disaster_model:\n",
    "\n",
    "    switchpoint = DiscreteUniform('switchpoint', lower=0, upper=n_years)"
   ]
  },
  {
   "cell_type": "markdown",
   "metadata": {},
   "source": [
    "We have done two things here. First, we have created a `Model` object; a `Model` is a Python object that encapsulates all of the variables that comprise our theoretical model, keeping them in a single container so that they may be used as a unit. After a `Model` is created, we can populate it with all of the model components that we specified when we wrote the model down. \n",
    "\n",
    "Notice that the `Model` above was declared using a `with` statement. This expression is used to define a Python idiom known as a **context manager**. Context managers, in general, are used to manage resources of some kind within a program. In this case, our resource is a `Model`, and we would like to add variables to it so that we can fit our statistical model. The key characteristic of the context manager is that the resources it manages are only defined within the indented block corresponding to the `with` statement. PyMC uses this idiom to automatically add defined variables to a model. Thus, any variable we define is automatically added to the `Model`, without having to explicitly add it. This avoids the repetitive syntax of `add` methods/functions that you see in some machine learning packages:\n",
    "\n",
    "```python\n",
    "model.add(a_variable)\n",
    "model.add(another_variable)\n",
    "model.add(yet_another_variable)\n",
    "model.add(and_again)\n",
    "model.add(please_kill_me_now)\n",
    "...\n",
    "```\n",
    "\n",
    "In fact, PyMC variables cannot be defined without a corresponding `Model`:"
   ]
  },
  {
   "cell_type": "code",
   "execution_count": 9,
   "metadata": {
    "collapsed": false
   },
   "outputs": [
    {
     "ename": "TypeError",
     "evalue": "No model on context stack, which is needed to use the Normal('x', 0,1) syntax. Add a 'with model:' block",
     "output_type": "error",
     "traceback": [
      "\u001b[0;31m---------------------------------------------------------------------------\u001b[0m",
      "\u001b[0;31mIndexError\u001b[0m                                Traceback (most recent call last)",
      "\u001b[0;32m/Users/fonnescj/Repositories/pymc3/pymc3/model.py\u001b[0m in \u001b[0;36mget_context\u001b[0;34m(cls)\u001b[0m\n\u001b[1;32m    113\u001b[0m         \u001b[0;32mtry\u001b[0m\u001b[0;34m:\u001b[0m\u001b[0;34m\u001b[0m\u001b[0m\n\u001b[0;32m--> 114\u001b[0;31m             \u001b[0;32mreturn\u001b[0m \u001b[0mcls\u001b[0m\u001b[0;34m.\u001b[0m\u001b[0mget_contexts\u001b[0m\u001b[0;34m(\u001b[0m\u001b[0;34m)\u001b[0m\u001b[0;34m[\u001b[0m\u001b[0;34m-\u001b[0m\u001b[0;36m1\u001b[0m\u001b[0;34m]\u001b[0m\u001b[0;34m\u001b[0m\u001b[0m\n\u001b[0m\u001b[1;32m    115\u001b[0m         \u001b[0;32mexcept\u001b[0m \u001b[0mIndexError\u001b[0m\u001b[0;34m:\u001b[0m\u001b[0;34m\u001b[0m\u001b[0m\n",
      "\u001b[0;31mIndexError\u001b[0m: list index out of range",
      "\nDuring handling of the above exception, another exception occurred:\n",
      "\u001b[0;31mTypeError\u001b[0m                                 Traceback (most recent call last)",
      "\u001b[0;32m/Users/fonnescj/Repositories/pymc3/pymc3/distributions/distribution.py\u001b[0m in \u001b[0;36m__new__\u001b[0;34m(cls, name, *args, **kwargs)\u001b[0m\n\u001b[1;32m     15\u001b[0m         \u001b[0;32mtry\u001b[0m\u001b[0;34m:\u001b[0m\u001b[0;34m\u001b[0m\u001b[0m\n\u001b[0;32m---> 16\u001b[0;31m             \u001b[0mmodel\u001b[0m \u001b[0;34m=\u001b[0m \u001b[0mModel\u001b[0m\u001b[0;34m.\u001b[0m\u001b[0mget_context\u001b[0m\u001b[0;34m(\u001b[0m\u001b[0;34m)\u001b[0m\u001b[0;34m\u001b[0m\u001b[0m\n\u001b[0m\u001b[1;32m     17\u001b[0m         \u001b[0;32mexcept\u001b[0m \u001b[0mTypeError\u001b[0m\u001b[0;34m:\u001b[0m\u001b[0;34m\u001b[0m\u001b[0m\n",
      "\u001b[0;32m/Users/fonnescj/Repositories/pymc3/pymc3/model.py\u001b[0m in \u001b[0;36mget_context\u001b[0;34m(cls)\u001b[0m\n\u001b[1;32m    115\u001b[0m         \u001b[0;32mexcept\u001b[0m \u001b[0mIndexError\u001b[0m\u001b[0;34m:\u001b[0m\u001b[0;34m\u001b[0m\u001b[0m\n\u001b[0;32m--> 116\u001b[0;31m             \u001b[0;32mraise\u001b[0m \u001b[0mTypeError\u001b[0m\u001b[0;34m(\u001b[0m\u001b[0;34m\"No context on context stack\"\u001b[0m\u001b[0;34m)\u001b[0m\u001b[0;34m\u001b[0m\u001b[0m\n\u001b[0m\u001b[1;32m    117\u001b[0m \u001b[0;34m\u001b[0m\u001b[0m\n",
      "\u001b[0;31mTypeError\u001b[0m: No context on context stack",
      "\nDuring handling of the above exception, another exception occurred:\n",
      "\u001b[0;31mTypeError\u001b[0m                                 Traceback (most recent call last)",
      "\u001b[0;32m<ipython-input-9-f6df2b3a33a9>\u001b[0m in \u001b[0;36m<module>\u001b[0;34m()\u001b[0m\n\u001b[0;32m----> 1\u001b[0;31m \u001b[0mfoo\u001b[0m \u001b[0;34m=\u001b[0m \u001b[0mDiscreteUniform\u001b[0m\u001b[0;34m(\u001b[0m\u001b[0;34m'foo'\u001b[0m\u001b[0;34m,\u001b[0m \u001b[0mlower\u001b[0m\u001b[0;34m=\u001b[0m\u001b[0;36m0\u001b[0m\u001b[0;34m,\u001b[0m \u001b[0mupper\u001b[0m\u001b[0;34m=\u001b[0m\u001b[0;36m10\u001b[0m\u001b[0;34m)\u001b[0m\u001b[0;34m\u001b[0m\u001b[0m\n\u001b[0m",
      "\u001b[0;32m/Users/fonnescj/Repositories/pymc3/pymc3/distributions/distribution.py\u001b[0m in \u001b[0;36m__new__\u001b[0;34m(cls, name, *args, **kwargs)\u001b[0m\n\u001b[1;32m     16\u001b[0m             \u001b[0mmodel\u001b[0m \u001b[0;34m=\u001b[0m \u001b[0mModel\u001b[0m\u001b[0;34m.\u001b[0m\u001b[0mget_context\u001b[0m\u001b[0;34m(\u001b[0m\u001b[0;34m)\u001b[0m\u001b[0;34m\u001b[0m\u001b[0m\n\u001b[1;32m     17\u001b[0m         \u001b[0;32mexcept\u001b[0m \u001b[0mTypeError\u001b[0m\u001b[0;34m:\u001b[0m\u001b[0;34m\u001b[0m\u001b[0m\n\u001b[0;32m---> 18\u001b[0;31m             raise TypeError(\"No model on context stack, which is needed to \"\n\u001b[0m\u001b[1;32m     19\u001b[0m                             \u001b[0;34m\"use the Normal('x', 0,1) syntax. \"\u001b[0m\u001b[0;34m\u001b[0m\u001b[0m\n\u001b[1;32m     20\u001b[0m                             \"Add a 'with model:' block\")\n",
      "\u001b[0;31mTypeError\u001b[0m: No model on context stack, which is needed to use the Normal('x', 0,1) syntax. Add a 'with model:' block"
     ]
    }
   ],
   "source": [
    "foo = DiscreteUniform('foo', lower=0, upper=10)"
   ]
  },
  {
   "cell_type": "markdown",
   "metadata": {},
   "source": [
    "However, variables can be explicitly added to models without the use of a context manager, via the variable's optional `model` argument.\n",
    "\n",
    "```python\n",
    "disaster_model = Model()\n",
    "switchpoint = DiscreteUniform('switchpoint', lower=0, upper=110, model=disaster_model)\n",
    "```"
   ]
  },
  {
   "cell_type": "markdown",
   "metadata": {},
   "source": [
    "Or, if we just want a discrete uniform distribution, and do not need to use it in a PyMC3 model necessarily, we can create one using the `dist` classmethod."
   ]
  },
  {
   "cell_type": "code",
   "execution_count": 13,
   "metadata": {
    "collapsed": true
   },
   "outputs": [],
   "source": [
    "x = DiscreteUniform.dist(lower=0, upper=100)"
   ]
  },
  {
   "cell_type": "code",
   "execution_count": 14,
   "metadata": {
    "collapsed": false
   },
   "outputs": [
    {
     "data": {
      "text/plain": [
       "<pymc3.distributions.discrete.DiscreteUniform at 0x1183c1d30>"
      ]
     },
     "execution_count": 14,
     "metadata": {},
     "output_type": "execute_result"
    }
   ],
   "source": [
    "x"
   ]
  },
  {
   "cell_type": "markdown",
   "metadata": {},
   "source": [
    "`DiscreteUniform` is an object that represents uniformly-distributed discrete variables. Use of this distribution\n",
    "suggests that we have no preference *a priori* regarding the location of the switchpoint; all values are equally likely. \n",
    "\n",
    "PyMC3 includes most of the common random variables used for statistical modeling. For example, the following discrete random variables are available."
   ]
  },
  {
   "cell_type": "code",
   "execution_count": 15,
   "metadata": {
    "collapsed": false
   },
   "outputs": [
    {
     "data": {
      "text/plain": [
       "['Binomial',\n",
       " 'BetaBinomial',\n",
       " 'Bernoulli',\n",
       " 'Poisson',\n",
       " 'NegativeBinomial',\n",
       " 'ConstantDist',\n",
       " 'ZeroInflatedPoisson',\n",
       " 'DiscreteUniform',\n",
       " 'Geometric',\n",
       " 'Categorical']"
      ]
     },
     "execution_count": 15,
     "metadata": {},
     "output_type": "execute_result"
    }
   ],
   "source": [
    "from pymc3 import discrete\n",
    "discrete.__all__"
   ]
  },
  {
   "cell_type": "markdown",
   "metadata": {},
   "source": [
    "By having a library of variables that represent statistical distributions, users are relieved of having to code distrbutions themselves. "
   ]
  },
  {
   "cell_type": "markdown",
   "metadata": {},
   "source": [
    "Similarly, we can create the exponentially-distributed variables `early_mean` and `late_mean` for the early and late Poisson rates, respectively (also in the context of the model `distater_model`):"
   ]
  },
  {
   "cell_type": "code",
   "execution_count": 16,
   "metadata": {
    "collapsed": false
   },
   "outputs": [
    {
     "name": "stdout",
     "output_type": "stream",
     "text": [
      "Applied log-transform to early_mean and added transformed early_mean_log to model.\n",
      "Applied log-transform to late_mean and added transformed late_mean_log to model.\n"
     ]
    }
   ],
   "source": [
    "from pymc3 import Exponential\n",
    "\n",
    "with disaster_model:\n",
    "    \n",
    "    early_mean = Exponential('early_mean', 1)\n",
    "    late_mean = Exponential('late_mean', 1)"
   ]
  },
  {
   "cell_type": "markdown",
   "metadata": {},
   "source": [
    "In this instance, we are told that the variables are being transformed. In PyMC3, variables with purely positive priors like `Exponential` are transformed with a log function. This makes sampling more robust. Behind the scenes, a variable in the unconstrained space (named \"variableName_log\") is added to the model for sampling. In this model this happens behind the scenes. Variables with priors that constrain them on two sides, like `Beta` or `Uniform` (continuous), are also transformed to be unconstrained but with a log odds transform."
   ]
  },
  {
   "cell_type": "markdown",
   "metadata": {},
   "source": [
    "Next, we define the variable `rate`, which selects the early rate `early_mean` for times before `switchpoint` and the late rate `late_mean` for times after `switchpoint`. We create `rate` using the `switch` function, which returns `early_mean` when the switchpoint is larger than (or equal to) a particular year, and `late_mean` otherwise."
   ]
  },
  {
   "cell_type": "code",
   "execution_count": 17,
   "metadata": {
    "collapsed": false
   },
   "outputs": [],
   "source": [
    "from pymc3 import switch\n",
    "\n",
    "with disaster_model:\n",
    "    \n",
    "    rate = switch(switchpoint >= np.arange(n_years), early_mean, late_mean)"
   ]
  },
  {
   "cell_type": "markdown",
   "metadata": {},
   "source": [
    "The last step is to define the data likelihood, or sampling distribution. In this case, our measured outcome is the number of disasters in each year, `disasters`. This is a stochastic variable but unlike `early_mean` and `late_mean` we have *observed* its value. To express this, we set the argument `observed` to the observed sequence of disasters. This tells PyMC that this distribution's value is fixed, and should not be changed:"
   ]
  },
  {
   "cell_type": "code",
   "execution_count": 18,
   "metadata": {
    "collapsed": false
   },
   "outputs": [],
   "source": [
    "from pymc3 import Poisson\n",
    "\n",
    "with disaster_model:\n",
    "    \n",
    "    disasters = Poisson('disasters', mu=rate, observed=disasters_data)"
   ]
  },
  {
   "cell_type": "markdown",
   "metadata": {},
   "source": [
    "The model that we specified at the top of the page has now been fully implemented in PyMC3. Let's have a look at the model's attributes to see what we have.\n",
    "\n",
    "The stochastic nodes in the model are identified in the `vars` (*i.e.* variables) attribute:"
   ]
  },
  {
   "cell_type": "code",
   "execution_count": 19,
   "metadata": {
    "collapsed": false
   },
   "outputs": [
    {
     "data": {
      "text/plain": [
       "[switchpoint, early_mean_log, late_mean_log]"
      ]
     },
     "execution_count": 19,
     "metadata": {},
     "output_type": "execute_result"
    }
   ],
   "source": [
    "disaster_model.vars"
   ]
  },
  {
   "cell_type": "markdown",
   "metadata": {},
   "source": [
    "The last two variables are the log-transformed versions of the early and late rate parameters. The original variables have become deterministic nodes in the model, since they only represent values that have been back-transformed from the transformed variable, which has been subject to fitting or sampling."
   ]
  },
  {
   "cell_type": "code",
   "execution_count": 20,
   "metadata": {
    "collapsed": false
   },
   "outputs": [
    {
     "data": {
      "text/plain": [
       "[early_mean, late_mean]"
      ]
     },
     "execution_count": 20,
     "metadata": {},
     "output_type": "execute_result"
    }
   ],
   "source": [
    "disaster_model.deterministics"
   ]
  },
  {
   "cell_type": "markdown",
   "metadata": {},
   "source": [
    "You might wonder why `rate`, which is a deterministic component of the model, is not in this list. This is because, unlike the other components of the model, `rate` has not been given a name and given a formal PyMC data structure. It is essentially an intermediate calculation in the model, implying that we are not interested in its value when it comes to summarizing the output from the model. Most PyMC objects have a name assigned; these names are used for storage and post-processing:\n",
    "\n",
    "-   as keys in on-disk databases,\n",
    "-   as axis labels in plots of traces,\n",
    "-   as table labels in summary statistics.\n",
    "\n",
    "If we wish to include `rate` in our output, we need to make it a `Deterministic` object, and give it a name:"
   ]
  },
  {
   "cell_type": "code",
   "execution_count": 21,
   "metadata": {
    "collapsed": false
   },
   "outputs": [],
   "source": [
    "from pymc3 import Deterministic\n",
    "\n",
    "with disaster_model:\n",
    "    \n",
    "    rate = Deterministic('rate', switch(switchpoint >= np.arange(n_years), early_mean, late_mean))"
   ]
  },
  {
   "cell_type": "markdown",
   "metadata": {},
   "source": [
    "Now, `rate` is included in the `Model`'s deterministics list, and the model will retain its samples during MCMC sampling, for example."
   ]
  },
  {
   "cell_type": "code",
   "execution_count": 22,
   "metadata": {
    "collapsed": false
   },
   "outputs": [
    {
     "data": {
      "text/plain": [
       "[early_mean, late_mean, rate]"
      ]
     },
     "execution_count": 22,
     "metadata": {},
     "output_type": "execute_result"
    }
   ],
   "source": [
    "disaster_model.deterministics"
   ]
  },
  {
   "cell_type": "markdown",
   "metadata": {},
   "source": [
    "### Why are data and unknown variables represented by the same object?\n",
    "\n",
    "Since its represented by a `Stochastic` object, `disasters` is defined\n",
    "by its dependence on its parent `rate` even though its value is fixed.\n",
    "This isn't just a quirk of PyMC's syntax; Bayesian hierarchical notation\n",
    "itself makes no distinction between random variables and data. The\n",
    "reason is simple: to use Bayes' theorem to compute the posterior, we require the\n",
    "likelihood. Even though `disasters`'s value is known\n",
    "and fixed, we need to formally assign it a probability distribution as\n",
    "if it were a random variable. Remember, the likelihood and the\n",
    "probability function are essentially the same, except that the former is\n",
    "regarded as a function of the parameters and the latter as a function of\n",
    "the data.\n",
    "\n",
    "This point can be counterintuitive at first, as many peoples' instinct\n",
    "is to regard data as fixed a priori and unknown variables as dependent\n",
    "on the data. One way to understand this is to think of statistical\n",
    "modelsas predictive models for data, or as\n",
    "models of the processes that gave rise to data. Before observing the\n",
    "value of `disasters`, we could have sampled from its prior predictive\n",
    "distribution $p(y)$ (*i.e.* the marginal distribution of the data) as\n",
    "follows:\n",
    "\n",
    "> -   Sample `early_mean`, `switchpoint` and `late_mean` from their\n",
    ">     priors.\n",
    "> -   Sample `disasters` conditional on these values.\n",
    "\n",
    "Even after we observe the value of `disasters`, we need to use this\n",
    "process model to make inferences about `early_mean` , `switchpoint` and\n",
    "`late_mean` because its the only information we have about how the\n",
    "variables are related."
   ]
  },
  {
   "cell_type": "markdown",
   "metadata": {},
   "source": [
    "## PyMC3 Variables\n",
    "\n",
    "Each of the built-in statistical variables are subclasses of the generic `Distribution` class in PyMC3. The `Distribution` carries relevant attributes about the distribution, such as the data type (called `dtype`), any relevant transformations (`transform`, see below), and initial values (`init_value`)."
   ]
  },
  {
   "cell_type": "code",
   "execution_count": 23,
   "metadata": {
    "collapsed": false
   },
   "outputs": [
    {
     "data": {
      "text/plain": [
       "'int64'"
      ]
     },
     "execution_count": 23,
     "metadata": {},
     "output_type": "execute_result"
    }
   ],
   "source": [
    "disasters.dtype"
   ]
  },
  {
   "cell_type": "code",
   "execution_count": 24,
   "metadata": {
    "collapsed": false
   },
   "outputs": [
    {
     "data": {
      "text/plain": [
       "array(0.693147177890573)"
      ]
     },
     "execution_count": 24,
     "metadata": {},
     "output_type": "execute_result"
    }
   ],
   "source": [
    "early_mean.init_value"
   ]
  },
  {
   "cell_type": "markdown",
   "metadata": {},
   "source": [
    "PyMC's built-in distribution variables can also be used to generate random values from that variable. For example, the `switchpoint`, which is a discrete uniform random variable, can generate random draws:"
   ]
  },
  {
   "cell_type": "code",
   "execution_count": 25,
   "metadata": {
    "collapsed": false
   },
   "outputs": [
    {
     "data": {
      "text/plain": [
       "(array([  79.,   91.,  100.,  103.,   90.,  101.,  116.,  108.,  101.,  111.]),\n",
       " array([   0.,   11.,   22.,   33.,   44.,   55.,   66.,   77.,   88.,\n",
       "          99.,  110.]),\n",
       " <a list of 10 Patch objects>)"
      ]
     },
     "execution_count": 25,
     "metadata": {},
     "output_type": "execute_result"
    },
    {
     "data": {
      "image/png": "[encoded data removed]",
      "text/plain": [
       "<matplotlib.figure.Figure at 0x118155048>"
      ]
     },
     "metadata": {},
     "output_type": "display_data"
    }
   ],
   "source": [
    "plt.hist(switchpoint.random(size=1000))"
   ]
  },
  {
   "cell_type": "markdown",
   "metadata": {},
   "source": [
    "As we noted earlier, some variables have undergone transformations prior to sampling. Such variables will have `transformed` attributes that points to the variable that it has been transformed to."
   ]
  },
  {
   "cell_type": "code",
   "execution_count": 26,
   "metadata": {
    "collapsed": false
   },
   "outputs": [
    {
     "data": {
      "text/plain": [
       "early_mean_log"
      ]
     },
     "execution_count": 26,
     "metadata": {},
     "output_type": "execute_result"
    }
   ],
   "source": [
    "early_mean.transformed"
   ]
  },
  {
   "cell_type": "markdown",
   "metadata": {},
   "source": [
    "Variables will usually have an associated distribution, as determined by the constructor used to create it. For example, the `switchpoint` variable was created by calling `DiscreteUniform()`. Hence, its distribution is `DiscreteUniform`:"
   ]
  },
  {
   "cell_type": "code",
   "execution_count": 27,
   "metadata": {
    "collapsed": false
   },
   "outputs": [
    {
     "data": {
      "text/plain": [
       "<pymc3.distributions.discrete.DiscreteUniform at 0x1175cd080>"
      ]
     },
     "execution_count": 27,
     "metadata": {},
     "output_type": "execute_result"
    }
   ],
   "source": [
    "switchpoint.distribution"
   ]
  },
  {
   "cell_type": "markdown",
   "metadata": {},
   "source": [
    "As with all Python objects, the underlying type of a variable can be exposed with the `type()` function:"
   ]
  },
  {
   "cell_type": "code",
   "execution_count": 28,
   "metadata": {
    "collapsed": false
   },
   "outputs": [
    {
     "data": {
      "text/plain": [
       "pymc3.model.FreeRV"
      ]
     },
     "execution_count": 28,
     "metadata": {},
     "output_type": "execute_result"
    }
   ],
   "source": [
    "type(switchpoint)"
   ]
  },
  {
   "cell_type": "code",
   "execution_count": 29,
   "metadata": {
    "collapsed": false
   },
   "outputs": [
    {
     "data": {
      "text/plain": [
       "pymc3.model.ObservedRV"
      ]
     },
     "execution_count": 29,
     "metadata": {},
     "output_type": "execute_result"
    }
   ],
   "source": [
    "type(disasters)"
   ]
  },
  {
   "cell_type": "markdown",
   "metadata": {},
   "source": [
    "## Variable log-probabilities\n",
    "\n",
    "All PyMC3 stochastic variables can evaluate their probability mass or density\n",
    "functions at a particular value, given the values of their parents. The\n",
    "logarithm of a stochastic object's probability mass or density can be\n",
    "accessed via the `logp` method. "
   ]
  },
  {
   "cell_type": "code",
   "execution_count": 30,
   "metadata": {
    "collapsed": false,
    "scrolled": true
   },
   "outputs": [
    {
     "data": {
      "text/plain": [
       "array(-4.718498871295094)"
      ]
     },
     "execution_count": 30,
     "metadata": {},
     "output_type": "execute_result"
    }
   ],
   "source": [
    "switchpoint.logp({'switchpoint':55, 'early_mean_log':1, 'late_mean_log':1})"
   ]
  },
  {
   "cell_type": "markdown",
   "metadata": {},
   "source": [
    "For vector-valued variables like `disasters`, the `logp` attribute returns the **sum** of the logarithms of\n",
    "the joint probability or density of all elements of the value."
   ]
  },
  {
   "cell_type": "code",
   "execution_count": 31,
   "metadata": {
    "collapsed": false
   },
   "outputs": [
    {
     "data": {
      "text/plain": [
       "array(-225.53807490087422)"
      ]
     },
     "execution_count": 31,
     "metadata": {},
     "output_type": "execute_result"
    }
   ],
   "source": [
    "disasters.logp({'switchpoint':55, 'early_mean_log':1, 'late_mean_log':1})"
   ]
  },
  {
   "cell_type": "markdown",
   "metadata": {},
   "source": [
    "### Custom variables\n",
    "\n",
    "Though we created the variables in `disaster_model` using well-known probability distributions that are available in PyMC3, its possible to create custom distributions by wrapping functions that compute an arbitrary log-probability using the `DensityDist` function. For example, our initial example showed an exponential survival function, which accounts for censored data. If we pass this function as the `logp` argument for `DensityDist`, we can use it as the data likelihood in a survival model:\n",
    "\n",
    "```python\n",
    "def logp(failure, value):\n",
    "    return (failure * log(lam) - lam * value).sum()\n",
    "\n",
    "x = DensityDist('x', logp, observed={'failure':failure, 'value':t})\n",
    "```\n",
    "\n",
    "Users are thus not\n",
    "limited to the set of of statistical distributions provided by PyMC."
   ]
  },
  {
   "cell_type": "markdown",
   "metadata": {},
   "source": [
    "## Fitting the model with MCMC\n",
    "\n",
    "PyMC3's `sample` function will fit probability models (linked collections of variables) like ours using Markov chain Monte Carlo (MCMC) sampling. Unless we manually assign particular algorithms to variables in our model, PyMC will assign algorithms that it deems appropriate (it usually does a decent job of this):"
   ]
  },
  {
   "cell_type": "code",
   "execution_count": 32,
   "metadata": {
    "collapsed": false
   },
   "outputs": [
    {
     "name": "stdout",
     "output_type": "stream",
     "text": [
      "Assigned Metropolis to switchpoint\n",
      "Assigned NUTS to early_mean_log\n",
      "Assigned NUTS to late_mean_log\n",
      " [-----------------100%-----------------] 2000 of 2000 complete in 1.2 sec"
     ]
    }
   ],
   "source": [
    "with disaster_model:\n",
    "    trace = sample(2000)"
   ]
  },
  {
   "cell_type": "code",
   "execution_count": 33,
   "metadata": {
    "collapsed": false
   },
   "outputs": [
    {
     "data": {
      "text/plain": [
       "<MultiTrace: 1 chains, 2000 iterations, 6 variables>"
      ]
     },
     "execution_count": 33,
     "metadata": {},
     "output_type": "execute_result"
    }
   ],
   "source": [
    "trace"
   ]
  },
  {
   "cell_type": "markdown",
   "metadata": {},
   "source": [
    "The `sample()` function always takes at least one argument, `draws`, which specifies how many samples to draw. However, there are a number of additional optional arguments that are worth knowing about:"
   ]
  },
  {
   "cell_type": "code",
   "execution_count": 34,
   "metadata": {
    "collapsed": false
   },
   "outputs": [
    {
     "name": "stdout",
     "output_type": "stream",
     "text": [
      "Help on function sample in module pymc3.sampling:\n",
      "\n",
      "sample(draws, step=None, start=None, trace=None, chain=0, njobs=1, tune=None, progressbar=True, model=None, random_seed=None)\n",
      "    Draw a number of samples using the given step method.\n",
      "    Multiple step methods supported via compound step method\n",
      "    returns the amount of time taken.\n",
      "    \n",
      "    Parameters\n",
      "    ----------\n",
      "    \n",
      "    draws : int\n",
      "        The number of samples to draw\n",
      "    step : function or iterable of functions\n",
      "        A step function or collection of functions. If no step methods are\n",
      "        specified, or are partially specified, they will be assigned\n",
      "        automatically (defaults to None).\n",
      "    start : dict\n",
      "        Starting point in parameter space (or partial point)\n",
      "        Defaults to trace.point(-1)) if there is a trace provided and\n",
      "        model.test_point if not (defaults to empty dict)\n",
      "    trace : backend, list, or MultiTrace\n",
      "        This should be a backend instance, a list of variables to track,\n",
      "        or a MultiTrace object with past values. If a MultiTrace object\n",
      "        is given, it must contain samples for the chain number `chain`.\n",
      "        If None or a list of variables, the NDArray backend is used.\n",
      "        Passing either \"text\" or \"sqlite\" is taken as a shortcut to set\n",
      "        up the corresponding backend (with \"mcmc\" used as the base\n",
      "        name).\n",
      "    chain : int\n",
      "        Chain number used to store sample in backend. If `njobs` is\n",
      "        greater than one, chain numbers will start here.\n",
      "    njobs : int\n",
      "        Number of parallel jobs to start. If None, set to number of cpus\n",
      "        in the system - 2.\n",
      "    tune : int\n",
      "        Number of iterations to tune, if applicable (defaults to None)\n",
      "    progressbar : bool\n",
      "        Flag for progress bar\n",
      "    model : Model (optional if in `with` context)\n",
      "    random_seed : int or list of ints\n",
      "        A list is accepted if more if `njobs` is greater than one.\n",
      "    \n",
      "    Returns\n",
      "    -------\n",
      "    MultiTrace object with access to sampling values\n",
      "\n"
     ]
    }
   ],
   "source": [
    "help(sample)"
   ]
  },
  {
   "cell_type": "markdown",
   "metadata": {},
   "source": [
    "The `step` argument is what allows users to manually override the sampling algorithms used to fit the model. For example, if we wanted to use a **slice sampler** to sample the `early_mean` and `late_mean` variables, we could specify it:"
   ]
  },
  {
   "cell_type": "code",
   "execution_count": 36,
   "metadata": {
    "collapsed": false
   },
   "outputs": [
    {
     "name": "stdout",
     "output_type": "stream",
     "text": [
      "Assigned Metropolis to switchpoint\n",
      " [-----------------100%-----------------] 1000 of 1000 complete in 1.6 sec"
     ]
    }
   ],
   "source": [
    "from pymc3 import Slice\n",
    "\n",
    "with disaster_model:\n",
    "    trace = sample(1000, step=Slice(vars=[early_mean, late_mean]))"
   ]
  },
  {
   "cell_type": "markdown",
   "metadata": {},
   "source": [
    "### Accessing the samples\n",
    "\n",
    "The output of the `sample` function is a `MultiTrace` object, which stores the sequence of samples for each variable in the model. These traces can be accessed using dict-style indexing:\n"
   ]
  },
  {
   "cell_type": "code",
   "execution_count": 37,
   "metadata": {
    "collapsed": false,
    "scrolled": false
   },
   "outputs": [
    {
     "data": {
      "text/plain": [
       "array([ 0.91949925,  0.94623342,  0.67679567,  0.69738512,  1.1063258 ,\n",
       "        0.83294778,  0.85248377,  0.80585691,  0.97164394,  0.78562479,\n",
       "        0.95271699,  0.83171402,  1.06510489,  0.96497224,  0.91120104,\n",
       "        0.93363078,  0.7660053 ,  0.95643013,  0.92543591,  0.93619417,\n",
       "        1.08704886,  0.79146985,  0.8742851 ,  0.93924535,  0.94495642,\n",
       "        0.95062454,  0.89750215,  0.85977215,  0.79607197,  0.990592  ,\n",
       "        0.97486743,  0.81378756,  1.00164546,  0.892717  ,  0.94330617,\n",
       "        0.7335175 ,  0.72655444,  0.78000045,  1.00304387,  0.92167515,\n",
       "        0.9069717 ,  0.78049576,  0.95808953,  0.82283417,  1.06554888,\n",
       "        0.85637212,  0.82236986,  0.83649406,  0.9282037 ,  0.71935988,\n",
       "        0.6555074 ,  0.58585563,  0.70278643,  1.08028095,  0.75089403,\n",
       "        1.08454529,  0.85404998,  0.97918222,  0.84224059,  0.90155704,\n",
       "        0.82758407,  0.99699816,  0.82606852,  0.83751463,  0.94256027,\n",
       "        0.84330518,  0.76862061,  1.05651393,  0.77729924,  0.75506412,\n",
       "        0.85377914,  0.81093258,  0.72068336,  0.71925451,  0.73464207,\n",
       "        0.87952359,  0.80490716,  1.05956329,  0.7103768 ,  0.96176791,\n",
       "        0.89970458,  0.9374991 ,  0.77310978,  0.8070725 ,  1.09884148,\n",
       "        1.00066477,  0.76101025,  0.7642403 ,  0.74802336,  0.70654823,\n",
       "        0.79998672,  0.77613657,  0.88458858,  0.69157756,  0.68593421,\n",
       "        0.7494939 ,  1.04686164,  0.90197306,  0.86333921,  0.91306311,\n",
       "        1.02329135,  1.07917208,  1.04340777,  0.75680998,  0.74701355,\n",
       "        0.71424236,  1.13938422,  0.9735921 ,  0.92092139,  0.91870186,\n",
       "        0.80377121,  0.84296601,  0.93736201,  0.92399675,  0.9256688 ,\n",
       "        0.96301893,  0.63422025,  0.48867025,  1.22971035,  1.14451078,\n",
       "        0.91553607,  0.72072958,  0.8731438 ,  0.97645731,  0.67488141,\n",
       "        0.83869696,  0.87555049,  0.83108123,  0.81752567,  0.80471559,\n",
       "        0.75497376,  0.85028523,  0.69729168,  0.6328898 ,  1.18062989,\n",
       "        1.03920652,  0.87786746,  0.88136237,  0.82746301,  0.86478562,\n",
       "        0.95557973,  0.75317027,  0.94599646,  0.73815553,  0.88237425,\n",
       "        0.81691093,  0.84951838,  0.82664512,  0.88128277,  0.84423988,\n",
       "        0.76462015,  0.83679526,  0.74168813,  0.88322343,  0.77743944,\n",
       "        0.90873385,  0.92799667,  0.74357065,  0.76480638,  0.75597338,\n",
       "        0.86863707,  0.84648163,  0.80902209,  0.89977227,  1.11462522,\n",
       "        0.94387042,  0.7869339 ,  1.07913594,  0.82573318,  0.92304802,\n",
       "        1.01974919,  1.03833657,  1.14397405,  1.03934967,  0.98845997,\n",
       "        1.02849254,  0.57956257,  0.97133114,  0.89404102,  0.84861126,\n",
       "        0.95931549,  0.97854769,  0.8487826 ,  1.03150278,  0.74660226,\n",
       "        0.94359289,  0.77033984,  0.75675981,  0.79799759,  0.53212259,\n",
       "        0.61622513,  0.7963768 ,  0.89025364,  0.87406074,  0.86488736,\n",
       "        0.88200954,  1.00291406,  0.71011402,  0.95812733,  0.79888734,\n",
       "        0.89577054,  0.97223027,  0.87838229,  1.03412017,  0.62809555,\n",
       "        0.87768461,  0.78435911,  1.01443526,  0.98429377,  0.8527207 ,\n",
       "        0.93067233,  0.97929054,  0.92223374,  0.72507922,  1.218808  ,\n",
       "        0.88300357,  0.88996789,  0.88687493,  0.91017383,  0.8697955 ,\n",
       "        0.96678553,  0.87123452,  0.80537111,  0.94261887,  0.78989217,\n",
       "        0.63594676,  0.70511836,  0.7763739 ,  0.85811219,  1.01629792,\n",
       "        1.05777829,  1.17861657,  0.51258224,  0.53339492,  0.92290295,\n",
       "        0.88619416,  0.76597576,  0.63857432,  0.87677615,  0.96255773,\n",
       "        0.73509861,  0.91913863,  0.81479391,  0.82599115,  0.85338179,\n",
       "        0.75070572,  0.97696527,  1.00546309,  0.97235865,  0.90693823,\n",
       "        0.88776875,  0.86749168,  1.06510235,  0.97779212,  0.74834525,\n",
       "        0.8779438 ,  0.79407096,  1.08481073,  0.80258337,  1.06814207,\n",
       "        1.29296715,  0.60530699,  0.98292708,  0.80406232,  0.8087515 ,\n",
       "        0.85765483,  0.83813939,  0.92649121,  0.85253032,  0.8736751 ,\n",
       "        0.92056783,  0.82728977,  0.89731416,  0.88913676,  0.86366205,\n",
       "        0.97375397,  0.83690132,  0.85302025,  0.86750033,  0.81835101,\n",
       "        0.87702823,  0.7890559 ,  0.85156588,  0.91813231,  1.00785774,\n",
       "        0.92251768,  0.81961351,  0.99287058,  0.99441804,  0.98787305,\n",
       "        1.01876975,  0.94695722,  1.00687131,  0.95921988,  0.86890065,\n",
       "        0.97319119,  0.98397308,  0.74746962,  1.06176721,  0.96067947,\n",
       "        0.95420765,  0.89250288,  0.74397993,  0.73415314,  1.16724839,\n",
       "        0.69132616,  1.12573382,  1.04191834,  1.06354537,  0.91203903,\n",
       "        0.93203618,  0.82233404,  1.13531725,  0.82649123,  0.87924969,\n",
       "        0.95253031,  0.87926381,  1.00366767,  1.12590822,  0.80320117,\n",
       "        1.02898591,  0.97470998,  0.80837093,  0.74694473,  1.15745032,\n",
       "        0.95420563,  0.98181572,  0.83032409,  0.75626053,  0.78918765,\n",
       "        0.92237679,  1.01502593,  0.91159473,  0.91391519,  0.7719189 ,\n",
       "        0.91034743,  1.0306036 ,  1.09504526,  0.81414417,  0.8153419 ,\n",
       "        1.01739882,  0.85691671,  0.96845691,  1.01199583,  1.03570701,\n",
       "        0.97352605,  0.97115838,  1.08918836,  0.93016925,  0.92309277,\n",
       "        0.92118262,  1.0881335 ,  1.26551833,  0.85205727,  0.83825881,\n",
       "        0.9149259 ,  1.07187333,  1.02813171,  0.79089038,  0.79706315,\n",
       "        0.85446747,  1.00458515,  0.99396598,  0.88133923,  0.83299218,\n",
       "        0.88399475,  0.92057908,  0.87612426,  1.01044581,  0.98724326,\n",
       "        0.92039801,  0.78242554,  0.75264809,  0.78505962,  0.88715478,\n",
       "        1.03451765,  0.82053229,  1.08976303,  0.81134306,  1.12516364,\n",
       "        0.98039645,  0.90027739,  0.9654704 ,  0.91024943,  0.87965794,\n",
       "        1.00974652,  0.81124652,  0.8015027 ,  0.97441166,  0.96346319,\n",
       "        0.85482986,  0.98522933,  1.03867299,  0.96752448,  0.8178469 ,\n",
       "        0.83064484,  1.05369559,  0.7851753 ,  0.87302451,  0.81648421,\n",
       "        0.88387378,  0.84200765,  0.87746229,  0.88681498,  0.83688343,\n",
       "        0.83165109,  0.93081871,  1.0233964 ,  0.73434705,  1.23341965,\n",
       "        0.92415736,  0.96674449,  0.88403072,  0.97605654,  1.01457656,\n",
       "        1.12473598,  1.03393395,  0.94738595,  0.96400611,  0.73344689,\n",
       "        0.86344392,  0.8925483 ,  1.02206135,  1.1171431 ,  0.97737746,\n",
       "        0.89364817,  0.98553584,  0.93188763,  1.07396497,  0.86941818,\n",
       "        0.88644443,  1.01663625,  0.6708302 ,  1.14292558,  0.84452617,\n",
       "        0.9258696 ,  0.82333666,  0.95254781,  0.81698641,  0.91112219,\n",
       "        0.91465441,  0.83075688,  0.97776957,  0.91373113,  0.9427885 ,\n",
       "        0.83542165,  0.83714707,  1.00245256,  1.08221908,  0.89234123,\n",
       "        0.97139174,  0.79099989,  0.84172139,  0.95587479,  0.82080992,\n",
       "        0.90391231,  0.826319  ,  0.8278237 ,  1.00546357,  1.00440792,\n",
       "        1.05598688,  0.79945158,  0.84519634,  0.82806017,  0.82841142,\n",
       "        0.95708922,  1.02249709,  0.93297252,  0.93014793,  0.95277086,\n",
       "        0.89185782,  0.9532497 ,  1.0259049 ,  0.9118314 ,  0.87718368,\n",
       "        1.00547301,  0.92193745,  1.0960111 ,  0.80323625,  0.80888411,\n",
       "        0.81740707,  0.98237478,  1.04218826,  0.97305837,  0.97179469,\n",
       "        1.02744691,  0.99522926,  0.92219862,  1.18648562,  1.02369434,\n",
       "        0.95064817,  0.91078828,  1.10264412,  0.95807025,  0.97413178,\n",
       "        0.81485687,  1.05171469,  1.0694564 ,  1.23062313,  1.22519576,\n",
       "        0.84595749,  0.95737234,  0.81934186,  0.77251229,  0.86097452,\n",
       "        0.87702592,  0.8783737 ,  0.86709484,  0.90705573,  0.6995746 ,\n",
       "        0.9882499 ,  1.03275903,  1.05585603,  1.00931307,  1.00783601,\n",
       "        1.02995436,  0.96216729,  0.91973957,  0.9854287 ,  1.08542053,\n",
       "        0.9735988 ,  0.98877346,  0.9742699 ,  0.86457544,  1.0322403 ,\n",
       "        1.17192349,  1.039308  ,  0.90590762,  1.13019956,  0.92048743,\n",
       "        0.88027584,  0.88454376,  0.91536387,  0.96171136,  1.03971735,\n",
       "        0.89504671,  0.77673527,  1.09429175,  0.74329468,  1.02473586,\n",
       "        0.927636  ,  1.05934321,  1.00389504,  0.86536261,  0.94510064,\n",
       "        0.69123063,  0.94336664,  0.97556782,  0.91406763,  0.91756648,\n",
       "        0.90801963,  0.9604728 ,  0.95758851,  1.10664216,  0.87370284,\n",
       "        0.95654938,  1.06870816,  1.12119824,  0.96592853,  0.85194869,\n",
       "        0.82399066,  0.83779539,  0.75070241,  0.93466455,  0.94519648,\n",
       "        1.00541577,  0.92615939,  0.91425598,  0.8816459 ,  1.05366836,\n",
       "        1.07527316,  1.0298359 ,  1.00565001,  0.94424564,  0.99902024,\n",
       "        0.93616592,  0.99680207,  0.90200291,  0.94709931,  0.81529754,\n",
       "        0.96437846,  0.93608876,  1.20288479,  0.93034257,  0.90063858,\n",
       "        1.10166747,  1.01747185,  0.9711351 ,  0.86873692,  1.02416827,\n",
       "        1.01356335,  0.83169145,  0.95760679,  0.76518389,  1.20372921,\n",
       "        1.14178854,  1.0059432 ,  0.9824699 ,  1.18900631,  1.17663033,\n",
       "        1.00552737,  0.88364265,  0.85866122,  0.99281896,  0.9229515 ,\n",
       "        0.96662162,  0.96908089,  1.07313443,  0.80499354,  0.89434664,\n",
       "        0.91352877,  0.94272899,  0.96319135,  0.93801664,  0.95595616,\n",
       "        0.9344    ,  1.03717026,  0.93919424,  1.06155389,  1.02425092,\n",
       "        1.02822392,  0.97238963,  0.95206448,  0.98223194,  0.95069155,\n",
       "        0.92689947,  0.963815  ,  0.92683654,  0.91188656,  0.84859983,\n",
       "        0.85068394,  0.96713222,  0.94052903,  0.96814724,  0.76556418,\n",
       "        0.98654199,  1.0897596 ,  0.88253594,  0.86110657,  0.94045999,\n",
       "        0.81618648,  1.20678403,  0.99436336,  1.06449227,  1.02429214,\n",
       "        1.02652675,  1.15666985,  1.24927134,  1.11975669,  1.11049236,\n",
       "        1.25348777,  0.96964343,  0.91445001,  1.00995609,  0.91657203,\n",
       "        0.93913592,  0.87161857,  0.81090043,  1.04056237,  0.81726706,\n",
       "        1.03656504,  1.06487262,  1.13202459,  1.15268732,  0.8400215 ,\n",
       "        0.91793213,  0.94034878,  0.8683272 ,  0.9079984 ,  0.76714805,\n",
       "        1.04789628,  1.02857484,  0.73310396,  1.09890251,  0.91361484,\n",
       "        0.83992139,  1.21062551,  0.85596601,  1.24432087,  0.79112818,\n",
       "        1.0327728 ,  0.94146359,  0.80499022,  1.08766978,  0.73781171,\n",
       "        0.73243629,  0.91242521,  0.9362178 ,  0.84821313,  0.66493046,\n",
       "        0.72977361,  1.23025012,  0.67871761,  0.84865824,  0.98354753,\n",
       "        0.91637634,  0.97346734,  0.94587918,  0.93021711,  1.00825393,\n",
       "        0.90537966,  0.81157318,  1.00324588,  0.95561364,  0.8930171 ,\n",
       "        0.87644216,  0.9283161 ,  0.90338383,  1.01637714,  1.04473179,\n",
       "        0.8473119 ,  0.83613116,  0.99950453,  0.8539666 ,  1.00955031,\n",
       "        0.85190449,  0.88070264,  0.91020151,  0.98135369,  0.95709379,\n",
       "        0.84114402,  0.82743728,  1.06979094,  0.86380228,  0.8154191 ,\n",
       "        0.67950031,  1.10980527,  0.7659399 ,  0.81162991,  0.85866255,\n",
       "        0.9278308 ,  0.963624  ,  0.6964991 ,  1.09822942,  0.86872082,\n",
       "        0.96179743,  1.02718153,  1.00521026,  0.94649411,  0.99097339,\n",
       "        1.02366757,  0.95801481,  0.89392544,  1.0357204 ,  0.80593843,\n",
       "        0.93909329,  0.87281151,  0.82790281,  0.79597408,  0.95009294,\n",
       "        1.01427722,  1.14826685,  1.20869657,  1.13555778,  0.84000793,\n",
       "        0.96639002,  1.11441549,  0.98662997,  0.79073403,  1.02820405,\n",
       "        0.88747982,  0.919767  ,  0.79239507,  0.95413384,  0.84430229,\n",
       "        0.6653512 ,  0.76569663,  0.96871986,  0.86895844,  1.06051336,\n",
       "        0.96613825,  0.93287543,  0.78952709,  1.10934534,  0.85820987,\n",
       "        0.89423518,  1.01931393,  1.10226181,  0.91460722,  0.97614832,\n",
       "        1.00231134,  1.154764  ,  0.87770673,  0.91051055,  0.97789308,\n",
       "        0.79902546,  1.05038434,  1.04204014,  1.26410859,  0.85003161,\n",
       "        0.9373803 ,  0.87639761,  1.00698634,  0.75123516,  1.01691761,\n",
       "        0.94189766,  0.96464664,  0.95008236,  0.84084265,  0.93546761,\n",
       "        0.92481327,  0.8228703 ,  0.71417252,  0.893373  ,  0.88435143,\n",
       "        0.92865245,  0.91868487,  0.9700925 ,  0.82077037,  0.81727053,\n",
       "        0.90864993,  1.15952024,  1.0103634 ,  0.95154164,  0.88807555,\n",
       "        0.83502662,  0.88207989,  1.10516082,  0.87664175,  0.81042388,\n",
       "        0.8152585 ,  1.24743912,  0.94160274,  0.98247028,  1.17823456,\n",
       "        0.8249739 ,  0.82262324,  0.98568037,  1.01467082,  1.01301326,\n",
       "        0.96562924,  1.05986837,  1.03842632,  1.04866977,  0.80281327,\n",
       "        0.90081558,  0.87757322,  1.03788312,  0.76410283,  1.02397117,\n",
       "        0.72258672,  0.78401262,  1.11492862,  0.99338452,  1.07322515,\n",
       "        0.96429696,  0.85918023,  1.01411317,  0.95610994,  0.85288456,\n",
       "        0.88311445,  0.95220459,  1.06658798,  0.82428005,  0.98437718,\n",
       "        0.88275649,  0.90953692,  1.020022  ,  0.95945327,  0.87746649,\n",
       "        0.9469941 ,  0.89423095,  0.93812172,  1.01087217,  0.85184468,\n",
       "        0.9317912 ,  0.86566341,  0.80142575,  1.07260944,  0.92868256,\n",
       "        0.99961759,  0.98547896,  1.01900356,  0.89919058,  0.94712538,\n",
       "        0.90802168,  0.95221782,  0.9059481 ,  0.95855258,  1.09237508,\n",
       "        0.9992724 ,  1.26555741,  1.05519039,  1.05984046,  0.90228548,\n",
       "        1.09011549,  1.10032124,  0.86515828,  0.97566135,  0.92824903,\n",
       "        0.98923821,  0.90969163,  0.96175726,  0.88918291,  0.90901857,\n",
       "        0.99652539,  0.82799219,  0.99378844,  0.96788137,  0.95009002,\n",
       "        0.94358025,  0.89047434,  0.93668657,  1.00555308,  1.00495524,\n",
       "        0.91907588,  0.8540773 ,  0.89336497,  0.85638606,  1.17009561,\n",
       "        1.18018416,  0.74178313,  1.05492416,  1.00912624,  0.97819086,\n",
       "        0.83367002,  1.08192486,  1.02603366,  0.96168632,  0.85106103,\n",
       "        1.00475375,  0.98624902,  0.82562337,  0.98885885,  0.76621176,\n",
       "        0.96298927,  0.92454404,  0.88851648,  0.89749335,  0.99363225,\n",
       "        0.72596919,  1.1092699 ,  1.07891961,  0.96459761,  1.36947766,\n",
       "        0.75501576,  0.75602871,  1.15273105,  1.12548296,  0.88088151,\n",
       "        0.98968235,  0.88097375,  0.9647299 ,  0.70685273,  0.9251013 ,\n",
       "        0.89504017,  0.88586372,  0.99097887,  0.92231667,  0.91716823,\n",
       "        0.7146817 ,  1.20997412,  0.99488567,  0.98548658,  0.82271453,\n",
       "        0.85201355,  0.95006546,  0.9660911 ,  1.03550649,  1.10677322,\n",
       "        1.0663783 ,  0.94254085,  1.13945383,  0.97688626,  0.80961871,\n",
       "        0.91379701,  1.01573271,  0.91008071,  0.8759236 ,  0.8754769 ,\n",
       "        1.12601436,  1.2042887 ,  1.12511471,  1.16290871,  0.80264176,\n",
       "        1.12614851,  0.83369975,  0.8096829 ,  0.97725991,  0.96420376,\n",
       "        1.11594491,  1.01053488,  0.95370219,  1.12289254,  0.66040406,\n",
       "        1.21853655,  1.18847353,  1.27727542,  0.68489177,  0.75105742,\n",
       "        0.86197793,  1.10732735,  0.98505605,  0.9352262 ,  1.08296539,\n",
       "        1.10741914,  1.00192028,  0.93781762,  0.89139362,  0.83010526])"
      ]
     },
     "execution_count": 37,
     "metadata": {},
     "output_type": "execute_result"
    }
   ],
   "source": [
    "trace['late_mean']"
   ]
  },
  {
   "cell_type": "markdown",
   "metadata": {},
   "source": [
    "The trace can also be sliced using the NumPy array slice `[start:stop:step]`. "
   ]
  },
  {
   "cell_type": "code",
   "execution_count": 38,
   "metadata": {
    "collapsed": false
   },
   "outputs": [
    {
     "data": {
      "text/plain": [
       "array([ 0.84595749,  0.95737234,  0.81934186,  0.77251229,  0.86097452,\n",
       "        0.87702592,  0.8783737 ,  0.86709484,  0.90705573,  0.6995746 ,\n",
       "        0.9882499 ,  1.03275903,  1.05585603,  1.00931307,  1.00783601,\n",
       "        1.02995436,  0.96216729,  0.91973957,  0.9854287 ,  1.08542053,\n",
       "        0.9735988 ,  0.98877346,  0.9742699 ,  0.86457544,  1.0322403 ,\n",
       "        1.17192349,  1.039308  ,  0.90590762,  1.13019956,  0.92048743,\n",
       "        0.88027584,  0.88454376,  0.91536387,  0.96171136,  1.03971735,\n",
       "        0.89504671,  0.77673527,  1.09429175,  0.74329468,  1.02473586,\n",
       "        0.927636  ,  1.05934321,  1.00389504,  0.86536261,  0.94510064,\n",
       "        0.69123063,  0.94336664,  0.97556782,  0.91406763,  0.91756648,\n",
       "        0.90801963,  0.9604728 ,  0.95758851,  1.10664216,  0.87370284,\n",
       "        0.95654938,  1.06870816,  1.12119824,  0.96592853,  0.85194869,\n",
       "        0.82399066,  0.83779539,  0.75070241,  0.93466455,  0.94519648,\n",
       "        1.00541577,  0.92615939,  0.91425598,  0.8816459 ,  1.05366836,\n",
       "        1.07527316,  1.0298359 ,  1.00565001,  0.94424564,  0.99902024,\n",
       "        0.93616592,  0.99680207,  0.90200291,  0.94709931,  0.81529754,\n",
       "        0.96437846,  0.93608876,  1.20288479,  0.93034257,  0.90063858,\n",
       "        1.10166747,  1.01747185,  0.9711351 ,  0.86873692,  1.02416827,\n",
       "        1.01356335,  0.83169145,  0.95760679,  0.76518389,  1.20372921,\n",
       "        1.14178854,  1.0059432 ,  0.9824699 ,  1.18900631,  1.17663033,\n",
       "        1.00552737,  0.88364265,  0.85866122,  0.99281896,  0.9229515 ,\n",
       "        0.96662162,  0.96908089,  1.07313443,  0.80499354,  0.89434664,\n",
       "        0.91352877,  0.94272899,  0.96319135,  0.93801664,  0.95595616,\n",
       "        0.9344    ,  1.03717026,  0.93919424,  1.06155389,  1.02425092,\n",
       "        1.02822392,  0.97238963,  0.95206448,  0.98223194,  0.95069155,\n",
       "        0.92689947,  0.963815  ,  0.92683654,  0.91188656,  0.84859983,\n",
       "        0.85068394,  0.96713222,  0.94052903,  0.96814724,  0.76556418,\n",
       "        0.98654199,  1.0897596 ,  0.88253594,  0.86110657,  0.94045999,\n",
       "        0.81618648,  1.20678403,  0.99436336,  1.06449227,  1.02429214,\n",
       "        1.02652675,  1.15666985,  1.24927134,  1.11975669,  1.11049236,\n",
       "        1.25348777,  0.96964343,  0.91445001,  1.00995609,  0.91657203,\n",
       "        0.93913592,  0.87161857,  0.81090043,  1.04056237,  0.81726706,\n",
       "        1.03656504,  1.06487262,  1.13202459,  1.15268732,  0.8400215 ,\n",
       "        0.91793213,  0.94034878,  0.8683272 ,  0.9079984 ,  0.76714805,\n",
       "        1.04789628,  1.02857484,  0.73310396,  1.09890251,  0.91361484,\n",
       "        0.83992139,  1.21062551,  0.85596601,  1.24432087,  0.79112818,\n",
       "        1.0327728 ,  0.94146359,  0.80499022,  1.08766978,  0.73781171,\n",
       "        0.73243629,  0.91242521,  0.9362178 ,  0.84821313,  0.66493046,\n",
       "        0.72977361,  1.23025012,  0.67871761,  0.84865824,  0.98354753,\n",
       "        0.91637634,  0.97346734,  0.94587918,  0.93021711,  1.00825393,\n",
       "        0.90537966,  0.81157318,  1.00324588,  0.95561364,  0.8930171 ,\n",
       "        0.87644216,  0.9283161 ,  0.90338383,  1.01637714,  1.04473179,\n",
       "        0.8473119 ,  0.83613116,  0.99950453,  0.8539666 ,  1.00955031,\n",
       "        0.85190449,  0.88070264,  0.91020151,  0.98135369,  0.95709379,\n",
       "        0.84114402,  0.82743728,  1.06979094,  0.86380228,  0.8154191 ,\n",
       "        0.67950031,  1.10980527,  0.7659399 ,  0.81162991,  0.85866255,\n",
       "        0.9278308 ,  0.963624  ,  0.6964991 ,  1.09822942,  0.86872082,\n",
       "        0.96179743,  1.02718153,  1.00521026,  0.94649411,  0.99097339,\n",
       "        1.02366757,  0.95801481,  0.89392544,  1.0357204 ,  0.80593843,\n",
       "        0.93909329,  0.87281151,  0.82790281,  0.79597408,  0.95009294,\n",
       "        1.01427722,  1.14826685,  1.20869657,  1.13555778,  0.84000793,\n",
       "        0.96639002,  1.11441549,  0.98662997,  0.79073403,  1.02820405,\n",
       "        0.88747982,  0.919767  ,  0.79239507,  0.95413384,  0.84430229,\n",
       "        0.6653512 ,  0.76569663,  0.96871986,  0.86895844,  1.06051336,\n",
       "        0.96613825,  0.93287543,  0.78952709,  1.10934534,  0.85820987,\n",
       "        0.89423518,  1.01931393,  1.10226181,  0.91460722,  0.97614832,\n",
       "        1.00231134,  1.154764  ,  0.87770673,  0.91051055,  0.97789308,\n",
       "        0.79902546,  1.05038434,  1.04204014,  1.26410859,  0.85003161,\n",
       "        0.9373803 ,  0.87639761,  1.00698634,  0.75123516,  1.01691761,\n",
       "        0.94189766,  0.96464664,  0.95008236,  0.84084265,  0.93546761,\n",
       "        0.92481327,  0.8228703 ,  0.71417252,  0.893373  ,  0.88435143,\n",
       "        0.92865245,  0.91868487,  0.9700925 ,  0.82077037,  0.81727053,\n",
       "        0.90864993,  1.15952024,  1.0103634 ,  0.95154164,  0.88807555,\n",
       "        0.83502662,  0.88207989,  1.10516082,  0.87664175,  0.81042388,\n",
       "        0.8152585 ,  1.24743912,  0.94160274,  0.98247028,  1.17823456,\n",
       "        0.8249739 ,  0.82262324,  0.98568037,  1.01467082,  1.01301326,\n",
       "        0.96562924,  1.05986837,  1.03842632,  1.04866977,  0.80281327,\n",
       "        0.90081558,  0.87757322,  1.03788312,  0.76410283,  1.02397117,\n",
       "        0.72258672,  0.78401262,  1.11492862,  0.99338452,  1.07322515,\n",
       "        0.96429696,  0.85918023,  1.01411317,  0.95610994,  0.85288456,\n",
       "        0.88311445,  0.95220459,  1.06658798,  0.82428005,  0.98437718,\n",
       "        0.88275649,  0.90953692,  1.020022  ,  0.95945327,  0.87746649,\n",
       "        0.9469941 ,  0.89423095,  0.93812172,  1.01087217,  0.85184468,\n",
       "        0.9317912 ,  0.86566341,  0.80142575,  1.07260944,  0.92868256,\n",
       "        0.99961759,  0.98547896,  1.01900356,  0.89919058,  0.94712538,\n",
       "        0.90802168,  0.95221782,  0.9059481 ,  0.95855258,  1.09237508,\n",
       "        0.9992724 ,  1.26555741,  1.05519039,  1.05984046,  0.90228548,\n",
       "        1.09011549,  1.10032124,  0.86515828,  0.97566135,  0.92824903,\n",
       "        0.98923821,  0.90969163,  0.96175726,  0.88918291,  0.90901857,\n",
       "        0.99652539,  0.82799219,  0.99378844,  0.96788137,  0.95009002,\n",
       "        0.94358025,  0.89047434,  0.93668657,  1.00555308,  1.00495524,\n",
       "        0.91907588,  0.8540773 ,  0.89336497,  0.85638606,  1.17009561,\n",
       "        1.18018416,  0.74178313,  1.05492416,  1.00912624,  0.97819086,\n",
       "        0.83367002,  1.08192486,  1.02603366,  0.96168632,  0.85106103,\n",
       "        1.00475375,  0.98624902,  0.82562337,  0.98885885,  0.76621176,\n",
       "        0.96298927,  0.92454404,  0.88851648,  0.89749335,  0.99363225,\n",
       "        0.72596919,  1.1092699 ,  1.07891961,  0.96459761,  1.36947766,\n",
       "        0.75501576,  0.75602871,  1.15273105,  1.12548296,  0.88088151,\n",
       "        0.98968235,  0.88097375,  0.9647299 ,  0.70685273,  0.9251013 ,\n",
       "        0.89504017,  0.88586372,  0.99097887,  0.92231667,  0.91716823,\n",
       "        0.7146817 ,  1.20997412,  0.99488567,  0.98548658,  0.82271453,\n",
       "        0.85201355,  0.95006546,  0.9660911 ,  1.03550649,  1.10677322,\n",
       "        1.0663783 ,  0.94254085,  1.13945383,  0.97688626,  0.80961871,\n",
       "        0.91379701,  1.01573271,  0.91008071,  0.8759236 ,  0.8754769 ,\n",
       "        1.12601436,  1.2042887 ,  1.12511471,  1.16290871,  0.80264176,\n",
       "        1.12614851,  0.83369975,  0.8096829 ,  0.97725991,  0.96420376,\n",
       "        1.11594491,  1.01053488,  0.95370219,  1.12289254,  0.66040406,\n",
       "        1.21853655,  1.18847353,  1.27727542,  0.68489177,  0.75105742,\n",
       "        0.86197793,  1.10732735,  0.98505605,  0.9352262 ,  1.08296539,\n",
       "        1.10741914,  1.00192028,  0.93781762,  0.89139362,  0.83010526])"
      ]
     },
     "execution_count": 38,
     "metadata": {},
     "output_type": "execute_result"
    }
   ],
   "source": [
    "trace['late_mean', 500:]"
   ]
  },
  {
   "cell_type": "markdown",
   "metadata": {},
   "source": [
    "### Sampling output\n",
    "\n",
    "You can examine the marginal posterior of any variable by plotting a\n",
    "histogram of its trace:"
   ]
  },
  {
   "cell_type": "code",
   "execution_count": 39,
   "metadata": {
    "collapsed": false
   },
   "outputs": [
    {
     "data": {
      "image/png": "[encoded data removed]",
      "text/plain": [
       "<matplotlib.figure.Figure at 0x1192db198>"
      ]
     },
     "metadata": {},
     "output_type": "display_data"
    }
   ],
   "source": [
    "plt.hist(trace['late_mean']);"
   ]
  },
  {
   "cell_type": "markdown",
   "metadata": {},
   "source": [
    "PyMC has its own plotting functionality dedicated to plotting MCMC output. For example, we can obtain a time series plot of the trace and a histogram using `traceplot`:"
   ]
  },
  {
   "cell_type": "code",
   "execution_count": 44,
   "metadata": {
    "collapsed": false
   },
   "outputs": [
    {
     "data": {
      "image/png": "[encoded data removed]",
      "text/plain": [
       "<matplotlib.figure.Figure at 0x11c1b45c0>"
      ]
     },
     "metadata": {},
     "output_type": "display_data"
    }
   ],
   "source": [
    "from pymc3 import traceplot\n",
    "\n",
    "traceplot(trace[500:], varnames=['early_mean', 'late_mean', 'switchpoint']);"
   ]
  },
  {
   "cell_type": "markdown",
   "metadata": {},
   "source": [
    "The upper left-hand pane of each figure shows the temporal series of the\n",
    "samples from each parameter, while below is an autocorrelation plot of\n",
    "the samples. The right-hand pane shows a histogram of the trace. The\n",
    "trace is useful for evaluating and diagnosing the algorithm's\n",
    "performance, while the histogram is useful for\n",
    "visualizing the posterior.\n",
    "\n",
    "For a non-graphical summary of the posterior, simply call the `stats` method."
   ]
  },
  {
   "cell_type": "code",
   "execution_count": 43,
   "metadata": {
    "collapsed": false
   },
   "outputs": [
    {
     "name": "stdout",
     "output_type": "stream",
     "text": [
      "\n",
      "early_mean:\n",
      "\n",
      "  Mean             SD               MC Error         95% HPD interval\n",
      "  -------------------------------------------------------------------\n",
      "  \n",
      "  3.070            0.275            0.013            [2.614, 3.633]\n",
      "\n",
      "  Posterior quantiles:\n",
      "  2.5            25             50             75             97.5\n",
      "  |--------------|==============|==============|--------------|\n",
      "  \n",
      "  2.601          2.868          3.066          3.252          3.631\n",
      "\n",
      "\n",
      "late_mean:\n",
      "\n",
      "  Mean             SD               MC Error         95% HPD interval\n",
      "  -------------------------------------------------------------------\n",
      "  \n",
      "  0.951            0.117            0.006            [0.730, 1.211]\n",
      "\n",
      "  Posterior quantiles:\n",
      "  2.5            25             50             75             97.5\n",
      "  |--------------|==============|==============|--------------|\n",
      "  \n",
      "  0.723          0.877          0.947          1.016          1.209\n",
      "\n"
     ]
    }
   ],
   "source": [
    "from pymc3 import summary\n",
    "\n",
    "summary(trace[500:], varnames=['early_mean', 'late_mean'])"
   ]
  }
 ],
 "metadata": {
  "kernelspec": {
   "display_name": "Python 3",
   "language": "python",
   "name": "python3"
  },
  "language_info": {
   "codemirror_mode": {
    "name": "ipython",
    "version": 3
   },
   "file_extension": ".py",
   "mimetype": "text/x-python",
   "name": "python",
   "nbconvert_exporter": "python",
   "pygments_lexer": "ipython3",
   "version": "3.5.1"
  }
 },
 "nbformat": 4,
 "nbformat_minor": 1
}
